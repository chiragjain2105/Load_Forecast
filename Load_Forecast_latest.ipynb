{
  "cells": [
    {
      "cell_type": "code",
      "execution_count": null,
      "metadata": {
        "id": "IeQ6YvFjJnWk"
      },
      "outputs": [],
      "source": [
        "import pandas as pd\n",
        "import numpy as np\n",
        "from sklearn.preprocessing import StandardScaler\n",
        "import matplotlib as mpl\n",
        "import matplotlib.pyplot as plt\n",
        "from sklearn.model_selection import train_test_split\n",
        "import seaborn as sns"
      ]
    },
    {
      "cell_type": "code",
      "execution_count": null,
      "metadata": {
        "colab": {
          "base_uri": "https://localhost:8080/"
        },
        "id": "SIuS7VzwJqP8",
        "outputId": "a2740189-eb40-4405-c2a3-99eafc6d03d0"
      },
      "outputs": [
        {
          "output_type": "stream",
          "name": "stdout",
          "text": [
            "Drive already mounted at /content/drive/; to attempt to forcibly remount, call drive.mount(\"/content/drive/\", force_remount=True).\n"
          ]
        }
      ],
      "source": [
        "from google.colab import drive\n",
        "drive.mount('/content/drive/')"
      ]
    },
    {
      "cell_type": "code",
      "execution_count": null,
      "metadata": {
        "id": "zCC78KmNJv7v"
      },
      "outputs": [],
      "source": [
        "df=pd.read_csv('/content/drive/MyDrive/load_forecast_data/training_data - Week 21, May 2019.csv')"
      ]
    },
    {
      "cell_type": "code",
      "execution_count": null,
      "metadata": {
        "colab": {
          "base_uri": "https://localhost:8080/",
          "height": 990
        },
        "id": "ibyFtPYUKUd1",
        "outputId": "d26fca9d-4e94-4a5e-fbc7-dd2307d3ba46"
      },
      "outputs": [
        {
          "output_type": "execute_result",
          "data": {
            "text/plain": [
              "               datetime   week_X-2   week_X-3   week_X-4       MA_X-4  \\\n",
              "0   2015-01-31 01:00:00   962.2865   906.9580   970.3450   938.004850   \n",
              "1   2015-01-31 02:00:00   933.3221   863.5135   912.1755   900.284075   \n",
              "2   2015-01-31 03:00:00   903.9817   848.4447   900.2688   881.704325   \n",
              "3   2015-01-31 04:00:00   900.9995   839.8821   889.9538   876.458825   \n",
              "4   2015-01-31 05:00:00   904.3481   847.1073   893.6865   879.190775   \n",
              "5   2015-01-31 06:00:00   912.5080   848.4718   879.2323   877.027925   \n",
              "6   2015-01-31 07:00:00   927.5976   897.8229   932.4876   920.381925   \n",
              "7   2015-01-31 08:00:00  1075.3486  1021.6720  1048.9720  1057.194625   \n",
              "8   2015-01-31 09:00:00  1116.6425  1108.9439  1167.9074  1138.178750   \n",
              "9   2015-01-31 10:00:00  1121.9048  1165.4756  1257.5069  1189.291375   \n",
              "10  2015-01-31 11:00:00  1149.2800  1179.0630  1254.5830  1202.799725   \n",
              "11  2015-01-31 12:00:00  1124.3282  1173.0899  1216.9004  1176.489125   \n",
              "12  2015-01-31 13:00:00  1100.5307  1161.4116  1202.1556  1153.509625   \n",
              "13  2015-01-31 14:00:00  1081.4347  1133.3133  1197.2616  1138.098025   \n",
              "14  2015-01-31 15:00:00  1065.0331  1100.6097  1169.0034  1124.010350   \n",
              "15  2015-01-31 16:00:00  1056.8685  1082.6875  1136.7054  1061.039175   \n",
              "16  2015-01-31 17:00:00  1053.7863  1051.4135  1101.9447   929.245075   \n",
              "17  2015-01-31 18:00:00  1046.2940  1088.8689  1107.0406  1057.654125   \n",
              "18  2015-01-31 19:00:00  1063.8643  1144.2722  1142.1548  1107.914550   \n",
              "19  2015-01-31 20:00:00  1054.0308  1102.2466  1097.2334  1072.617750   \n",
              "20  2015-01-31 21:00:00  1026.6331  1064.1510  1074.6544  1044.417200   \n",
              "21  2015-01-31 22:00:00   982.6391  1030.4566  1041.3244  1012.043650   \n",
              "22  2015-01-31 23:00:00   928.4173   979.5945   999.6340   958.003575   \n",
              "23  2015-02-01 00:00:00   891.4272   956.5766   968.0526   929.791225   \n",
              "24  2015-02-01 01:00:00   873.3819   924.2795   944.0556   905.487275   \n",
              "25  2015-02-01 02:00:00   844.9238   887.4576   928.7193   873.714400   \n",
              "26  2015-02-01 03:00:00   831.5366   858.9606   909.5566   849.303500   \n",
              "27  2015-02-01 04:00:00   824.3757   847.4881   894.6543   840.293375   \n",
              "28  2015-02-01 05:00:00   815.4005   842.7522   884.6659   834.463400   \n",
              "29  2015-02-01 06:00:00   785.2751   807.4211   862.9888   810.501925   \n",
              "\n",
              "    dayOfWeek  weekend  holiday  Holiday_ID  hourOfDay    T2M_toc     DEMAND  \n",
              "0           1        1        0           0          1  25.308496   954.2018  \n",
              "1           1        1        0           0          2  25.141443   913.8660  \n",
              "2           1        1        0           0          3  25.006738   903.3637  \n",
              "3           1        1        0           0          4  24.899713   889.0806  \n",
              "4           1        1        0           0          5  24.821558   910.1472  \n",
              "5           1        1        0           0          6  24.830194   922.1737  \n",
              "6           1        1        0           0          7  25.799951   939.9442  \n",
              "7           1        1        0           0          8  26.980310  1077.8575  \n",
              "8           1        1        0           0          9  28.031824  1179.6601  \n",
              "9           1        1        0           0         10  28.906061  1255.1569  \n",
              "10          1        1        0           0         11  29.555170  1253.4414  \n",
              "11          1        1        0           0         12  30.036523  1223.6116  \n",
              "12          1        1        0           0         13  30.265527  1160.2838  \n",
              "13          1        1        0           0         14  30.211145  1124.8878  \n",
              "14          1        1        0           0         15  29.732751  1112.4189  \n",
              "15          1        1        0           0         16  28.988275  1081.7406  \n",
              "16          1        1        0           0         17  27.993494  1064.8583  \n",
              "17          1        1        0           0         18  27.021875  1095.5704  \n",
              "18          1        1        0           0         19  26.520013  1116.6654  \n",
              "19          1        1        0           0         20  26.249841  1094.6770  \n",
              "20          1        1        0           0         21  26.018793  1075.2083  \n",
              "21          1        1        0           0         22  25.879510  1041.0831  \n",
              "22          1        1        0           0         23  25.740076   988.5723  \n",
              "23          2        1        0           0          0  25.594904   939.5286  \n",
              "24          2        1        0           0          1  25.448450   904.3712  \n",
              "25          2        1        0           0          2  25.323755   883.9448  \n",
              "26          2        1        0           0          3  25.221033   871.9966  \n",
              "27          2        1        0           0          4  25.128564   856.8211  \n",
              "28          2        1        0           0          5  25.043604   849.8465  \n",
              "29          2        1        0           0          6  25.096826   822.2660  "
            ],
            "text/html": [
              "\n",
              "  <div id=\"df-1ea659f8-4b2d-4dd8-8f97-ed8d6de40c96\">\n",
              "    <div class=\"colab-df-container\">\n",
              "      <div>\n",
              "<style scoped>\n",
              "    .dataframe tbody tr th:only-of-type {\n",
              "        vertical-align: middle;\n",
              "    }\n",
              "\n",
              "    .dataframe tbody tr th {\n",
              "        vertical-align: top;\n",
              "    }\n",
              "\n",
              "    .dataframe thead th {\n",
              "        text-align: right;\n",
              "    }\n",
              "</style>\n",
              "<table border=\"1\" class=\"dataframe\">\n",
              "  <thead>\n",
              "    <tr style=\"text-align: right;\">\n",
              "      <th></th>\n",
              "      <th>datetime</th>\n",
              "      <th>week_X-2</th>\n",
              "      <th>week_X-3</th>\n",
              "      <th>week_X-4</th>\n",
              "      <th>MA_X-4</th>\n",
              "      <th>dayOfWeek</th>\n",
              "      <th>weekend</th>\n",
              "      <th>holiday</th>\n",
              "      <th>Holiday_ID</th>\n",
              "      <th>hourOfDay</th>\n",
              "      <th>T2M_toc</th>\n",
              "      <th>DEMAND</th>\n",
              "    </tr>\n",
              "  </thead>\n",
              "  <tbody>\n",
              "    <tr>\n",
              "      <th>0</th>\n",
              "      <td>2015-01-31 01:00:00</td>\n",
              "      <td>962.2865</td>\n",
              "      <td>906.9580</td>\n",
              "      <td>970.3450</td>\n",
              "      <td>938.004850</td>\n",
              "      <td>1</td>\n",
              "      <td>1</td>\n",
              "      <td>0</td>\n",
              "      <td>0</td>\n",
              "      <td>1</td>\n",
              "      <td>25.308496</td>\n",
              "      <td>954.2018</td>\n",
              "    </tr>\n",
              "    <tr>\n",
              "      <th>1</th>\n",
              "      <td>2015-01-31 02:00:00</td>\n",
              "      <td>933.3221</td>\n",
              "      <td>863.5135</td>\n",
              "      <td>912.1755</td>\n",
              "      <td>900.284075</td>\n",
              "      <td>1</td>\n",
              "      <td>1</td>\n",
              "      <td>0</td>\n",
              "      <td>0</td>\n",
              "      <td>2</td>\n",
              "      <td>25.141443</td>\n",
              "      <td>913.8660</td>\n",
              "    </tr>\n",
              "    <tr>\n",
              "      <th>2</th>\n",
              "      <td>2015-01-31 03:00:00</td>\n",
              "      <td>903.9817</td>\n",
              "      <td>848.4447</td>\n",
              "      <td>900.2688</td>\n",
              "      <td>881.704325</td>\n",
              "      <td>1</td>\n",
              "      <td>1</td>\n",
              "      <td>0</td>\n",
              "      <td>0</td>\n",
              "      <td>3</td>\n",
              "      <td>25.006738</td>\n",
              "      <td>903.3637</td>\n",
              "    </tr>\n",
              "    <tr>\n",
              "      <th>3</th>\n",
              "      <td>2015-01-31 04:00:00</td>\n",
              "      <td>900.9995</td>\n",
              "      <td>839.8821</td>\n",
              "      <td>889.9538</td>\n",
              "      <td>876.458825</td>\n",
              "      <td>1</td>\n",
              "      <td>1</td>\n",
              "      <td>0</td>\n",
              "      <td>0</td>\n",
              "      <td>4</td>\n",
              "      <td>24.899713</td>\n",
              "      <td>889.0806</td>\n",
              "    </tr>\n",
              "    <tr>\n",
              "      <th>4</th>\n",
              "      <td>2015-01-31 05:00:00</td>\n",
              "      <td>904.3481</td>\n",
              "      <td>847.1073</td>\n",
              "      <td>893.6865</td>\n",
              "      <td>879.190775</td>\n",
              "      <td>1</td>\n",
              "      <td>1</td>\n",
              "      <td>0</td>\n",
              "      <td>0</td>\n",
              "      <td>5</td>\n",
              "      <td>24.821558</td>\n",
              "      <td>910.1472</td>\n",
              "    </tr>\n",
              "    <tr>\n",
              "      <th>5</th>\n",
              "      <td>2015-01-31 06:00:00</td>\n",
              "      <td>912.5080</td>\n",
              "      <td>848.4718</td>\n",
              "      <td>879.2323</td>\n",
              "      <td>877.027925</td>\n",
              "      <td>1</td>\n",
              "      <td>1</td>\n",
              "      <td>0</td>\n",
              "      <td>0</td>\n",
              "      <td>6</td>\n",
              "      <td>24.830194</td>\n",
              "      <td>922.1737</td>\n",
              "    </tr>\n",
              "    <tr>\n",
              "      <th>6</th>\n",
              "      <td>2015-01-31 07:00:00</td>\n",
              "      <td>927.5976</td>\n",
              "      <td>897.8229</td>\n",
              "      <td>932.4876</td>\n",
              "      <td>920.381925</td>\n",
              "      <td>1</td>\n",
              "      <td>1</td>\n",
              "      <td>0</td>\n",
              "      <td>0</td>\n",
              "      <td>7</td>\n",
              "      <td>25.799951</td>\n",
              "      <td>939.9442</td>\n",
              "    </tr>\n",
              "    <tr>\n",
              "      <th>7</th>\n",
              "      <td>2015-01-31 08:00:00</td>\n",
              "      <td>1075.3486</td>\n",
              "      <td>1021.6720</td>\n",
              "      <td>1048.9720</td>\n",
              "      <td>1057.194625</td>\n",
              "      <td>1</td>\n",
              "      <td>1</td>\n",
              "      <td>0</td>\n",
              "      <td>0</td>\n",
              "      <td>8</td>\n",
              "      <td>26.980310</td>\n",
              "      <td>1077.8575</td>\n",
              "    </tr>\n",
              "    <tr>\n",
              "      <th>8</th>\n",
              "      <td>2015-01-31 09:00:00</td>\n",
              "      <td>1116.6425</td>\n",
              "      <td>1108.9439</td>\n",
              "      <td>1167.9074</td>\n",
              "      <td>1138.178750</td>\n",
              "      <td>1</td>\n",
              "      <td>1</td>\n",
              "      <td>0</td>\n",
              "      <td>0</td>\n",
              "      <td>9</td>\n",
              "      <td>28.031824</td>\n",
              "      <td>1179.6601</td>\n",
              "    </tr>\n",
              "    <tr>\n",
              "      <th>9</th>\n",
              "      <td>2015-01-31 10:00:00</td>\n",
              "      <td>1121.9048</td>\n",
              "      <td>1165.4756</td>\n",
              "      <td>1257.5069</td>\n",
              "      <td>1189.291375</td>\n",
              "      <td>1</td>\n",
              "      <td>1</td>\n",
              "      <td>0</td>\n",
              "      <td>0</td>\n",
              "      <td>10</td>\n",
              "      <td>28.906061</td>\n",
              "      <td>1255.1569</td>\n",
              "    </tr>\n",
              "    <tr>\n",
              "      <th>10</th>\n",
              "      <td>2015-01-31 11:00:00</td>\n",
              "      <td>1149.2800</td>\n",
              "      <td>1179.0630</td>\n",
              "      <td>1254.5830</td>\n",
              "      <td>1202.799725</td>\n",
              "      <td>1</td>\n",
              "      <td>1</td>\n",
              "      <td>0</td>\n",
              "      <td>0</td>\n",
              "      <td>11</td>\n",
              "      <td>29.555170</td>\n",
              "      <td>1253.4414</td>\n",
              "    </tr>\n",
              "    <tr>\n",
              "      <th>11</th>\n",
              "      <td>2015-01-31 12:00:00</td>\n",
              "      <td>1124.3282</td>\n",
              "      <td>1173.0899</td>\n",
              "      <td>1216.9004</td>\n",
              "      <td>1176.489125</td>\n",
              "      <td>1</td>\n",
              "      <td>1</td>\n",
              "      <td>0</td>\n",
              "      <td>0</td>\n",
              "      <td>12</td>\n",
              "      <td>30.036523</td>\n",
              "      <td>1223.6116</td>\n",
              "    </tr>\n",
              "    <tr>\n",
              "      <th>12</th>\n",
              "      <td>2015-01-31 13:00:00</td>\n",
              "      <td>1100.5307</td>\n",
              "      <td>1161.4116</td>\n",
              "      <td>1202.1556</td>\n",
              "      <td>1153.509625</td>\n",
              "      <td>1</td>\n",
              "      <td>1</td>\n",
              "      <td>0</td>\n",
              "      <td>0</td>\n",
              "      <td>13</td>\n",
              "      <td>30.265527</td>\n",
              "      <td>1160.2838</td>\n",
              "    </tr>\n",
              "    <tr>\n",
              "      <th>13</th>\n",
              "      <td>2015-01-31 14:00:00</td>\n",
              "      <td>1081.4347</td>\n",
              "      <td>1133.3133</td>\n",
              "      <td>1197.2616</td>\n",
              "      <td>1138.098025</td>\n",
              "      <td>1</td>\n",
              "      <td>1</td>\n",
              "      <td>0</td>\n",
              "      <td>0</td>\n",
              "      <td>14</td>\n",
              "      <td>30.211145</td>\n",
              "      <td>1124.8878</td>\n",
              "    </tr>\n",
              "    <tr>\n",
              "      <th>14</th>\n",
              "      <td>2015-01-31 15:00:00</td>\n",
              "      <td>1065.0331</td>\n",
              "      <td>1100.6097</td>\n",
              "      <td>1169.0034</td>\n",
              "      <td>1124.010350</td>\n",
              "      <td>1</td>\n",
              "      <td>1</td>\n",
              "      <td>0</td>\n",
              "      <td>0</td>\n",
              "      <td>15</td>\n",
              "      <td>29.732751</td>\n",
              "      <td>1112.4189</td>\n",
              "    </tr>\n",
              "    <tr>\n",
              "      <th>15</th>\n",
              "      <td>2015-01-31 16:00:00</td>\n",
              "      <td>1056.8685</td>\n",
              "      <td>1082.6875</td>\n",
              "      <td>1136.7054</td>\n",
              "      <td>1061.039175</td>\n",
              "      <td>1</td>\n",
              "      <td>1</td>\n",
              "      <td>0</td>\n",
              "      <td>0</td>\n",
              "      <td>16</td>\n",
              "      <td>28.988275</td>\n",
              "      <td>1081.7406</td>\n",
              "    </tr>\n",
              "    <tr>\n",
              "      <th>16</th>\n",
              "      <td>2015-01-31 17:00:00</td>\n",
              "      <td>1053.7863</td>\n",
              "      <td>1051.4135</td>\n",
              "      <td>1101.9447</td>\n",
              "      <td>929.245075</td>\n",
              "      <td>1</td>\n",
              "      <td>1</td>\n",
              "      <td>0</td>\n",
              "      <td>0</td>\n",
              "      <td>17</td>\n",
              "      <td>27.993494</td>\n",
              "      <td>1064.8583</td>\n",
              "    </tr>\n",
              "    <tr>\n",
              "      <th>17</th>\n",
              "      <td>2015-01-31 18:00:00</td>\n",
              "      <td>1046.2940</td>\n",
              "      <td>1088.8689</td>\n",
              "      <td>1107.0406</td>\n",
              "      <td>1057.654125</td>\n",
              "      <td>1</td>\n",
              "      <td>1</td>\n",
              "      <td>0</td>\n",
              "      <td>0</td>\n",
              "      <td>18</td>\n",
              "      <td>27.021875</td>\n",
              "      <td>1095.5704</td>\n",
              "    </tr>\n",
              "    <tr>\n",
              "      <th>18</th>\n",
              "      <td>2015-01-31 19:00:00</td>\n",
              "      <td>1063.8643</td>\n",
              "      <td>1144.2722</td>\n",
              "      <td>1142.1548</td>\n",
              "      <td>1107.914550</td>\n",
              "      <td>1</td>\n",
              "      <td>1</td>\n",
              "      <td>0</td>\n",
              "      <td>0</td>\n",
              "      <td>19</td>\n",
              "      <td>26.520013</td>\n",
              "      <td>1116.6654</td>\n",
              "    </tr>\n",
              "    <tr>\n",
              "      <th>19</th>\n",
              "      <td>2015-01-31 20:00:00</td>\n",
              "      <td>1054.0308</td>\n",
              "      <td>1102.2466</td>\n",
              "      <td>1097.2334</td>\n",
              "      <td>1072.617750</td>\n",
              "      <td>1</td>\n",
              "      <td>1</td>\n",
              "      <td>0</td>\n",
              "      <td>0</td>\n",
              "      <td>20</td>\n",
              "      <td>26.249841</td>\n",
              "      <td>1094.6770</td>\n",
              "    </tr>\n",
              "    <tr>\n",
              "      <th>20</th>\n",
              "      <td>2015-01-31 21:00:00</td>\n",
              "      <td>1026.6331</td>\n",
              "      <td>1064.1510</td>\n",
              "      <td>1074.6544</td>\n",
              "      <td>1044.417200</td>\n",
              "      <td>1</td>\n",
              "      <td>1</td>\n",
              "      <td>0</td>\n",
              "      <td>0</td>\n",
              "      <td>21</td>\n",
              "      <td>26.018793</td>\n",
              "      <td>1075.2083</td>\n",
              "    </tr>\n",
              "    <tr>\n",
              "      <th>21</th>\n",
              "      <td>2015-01-31 22:00:00</td>\n",
              "      <td>982.6391</td>\n",
              "      <td>1030.4566</td>\n",
              "      <td>1041.3244</td>\n",
              "      <td>1012.043650</td>\n",
              "      <td>1</td>\n",
              "      <td>1</td>\n",
              "      <td>0</td>\n",
              "      <td>0</td>\n",
              "      <td>22</td>\n",
              "      <td>25.879510</td>\n",
              "      <td>1041.0831</td>\n",
              "    </tr>\n",
              "    <tr>\n",
              "      <th>22</th>\n",
              "      <td>2015-01-31 23:00:00</td>\n",
              "      <td>928.4173</td>\n",
              "      <td>979.5945</td>\n",
              "      <td>999.6340</td>\n",
              "      <td>958.003575</td>\n",
              "      <td>1</td>\n",
              "      <td>1</td>\n",
              "      <td>0</td>\n",
              "      <td>0</td>\n",
              "      <td>23</td>\n",
              "      <td>25.740076</td>\n",
              "      <td>988.5723</td>\n",
              "    </tr>\n",
              "    <tr>\n",
              "      <th>23</th>\n",
              "      <td>2015-02-01 00:00:00</td>\n",
              "      <td>891.4272</td>\n",
              "      <td>956.5766</td>\n",
              "      <td>968.0526</td>\n",
              "      <td>929.791225</td>\n",
              "      <td>2</td>\n",
              "      <td>1</td>\n",
              "      <td>0</td>\n",
              "      <td>0</td>\n",
              "      <td>0</td>\n",
              "      <td>25.594904</td>\n",
              "      <td>939.5286</td>\n",
              "    </tr>\n",
              "    <tr>\n",
              "      <th>24</th>\n",
              "      <td>2015-02-01 01:00:00</td>\n",
              "      <td>873.3819</td>\n",
              "      <td>924.2795</td>\n",
              "      <td>944.0556</td>\n",
              "      <td>905.487275</td>\n",
              "      <td>2</td>\n",
              "      <td>1</td>\n",
              "      <td>0</td>\n",
              "      <td>0</td>\n",
              "      <td>1</td>\n",
              "      <td>25.448450</td>\n",
              "      <td>904.3712</td>\n",
              "    </tr>\n",
              "    <tr>\n",
              "      <th>25</th>\n",
              "      <td>2015-02-01 02:00:00</td>\n",
              "      <td>844.9238</td>\n",
              "      <td>887.4576</td>\n",
              "      <td>928.7193</td>\n",
              "      <td>873.714400</td>\n",
              "      <td>2</td>\n",
              "      <td>1</td>\n",
              "      <td>0</td>\n",
              "      <td>0</td>\n",
              "      <td>2</td>\n",
              "      <td>25.323755</td>\n",
              "      <td>883.9448</td>\n",
              "    </tr>\n",
              "    <tr>\n",
              "      <th>26</th>\n",
              "      <td>2015-02-01 03:00:00</td>\n",
              "      <td>831.5366</td>\n",
              "      <td>858.9606</td>\n",
              "      <td>909.5566</td>\n",
              "      <td>849.303500</td>\n",
              "      <td>2</td>\n",
              "      <td>1</td>\n",
              "      <td>0</td>\n",
              "      <td>0</td>\n",
              "      <td>3</td>\n",
              "      <td>25.221033</td>\n",
              "      <td>871.9966</td>\n",
              "    </tr>\n",
              "    <tr>\n",
              "      <th>27</th>\n",
              "      <td>2015-02-01 04:00:00</td>\n",
              "      <td>824.3757</td>\n",
              "      <td>847.4881</td>\n",
              "      <td>894.6543</td>\n",
              "      <td>840.293375</td>\n",
              "      <td>2</td>\n",
              "      <td>1</td>\n",
              "      <td>0</td>\n",
              "      <td>0</td>\n",
              "      <td>4</td>\n",
              "      <td>25.128564</td>\n",
              "      <td>856.8211</td>\n",
              "    </tr>\n",
              "    <tr>\n",
              "      <th>28</th>\n",
              "      <td>2015-02-01 05:00:00</td>\n",
              "      <td>815.4005</td>\n",
              "      <td>842.7522</td>\n",
              "      <td>884.6659</td>\n",
              "      <td>834.463400</td>\n",
              "      <td>2</td>\n",
              "      <td>1</td>\n",
              "      <td>0</td>\n",
              "      <td>0</td>\n",
              "      <td>5</td>\n",
              "      <td>25.043604</td>\n",
              "      <td>849.8465</td>\n",
              "    </tr>\n",
              "    <tr>\n",
              "      <th>29</th>\n",
              "      <td>2015-02-01 06:00:00</td>\n",
              "      <td>785.2751</td>\n",
              "      <td>807.4211</td>\n",
              "      <td>862.9888</td>\n",
              "      <td>810.501925</td>\n",
              "      <td>2</td>\n",
              "      <td>1</td>\n",
              "      <td>0</td>\n",
              "      <td>0</td>\n",
              "      <td>6</td>\n",
              "      <td>25.096826</td>\n",
              "      <td>822.2660</td>\n",
              "    </tr>\n",
              "  </tbody>\n",
              "</table>\n",
              "</div>\n",
              "      <button class=\"colab-df-convert\" onclick=\"convertToInteractive('df-1ea659f8-4b2d-4dd8-8f97-ed8d6de40c96')\"\n",
              "              title=\"Convert this dataframe to an interactive table.\"\n",
              "              style=\"display:none;\">\n",
              "        \n",
              "  <svg xmlns=\"http://www.w3.org/2000/svg\" height=\"24px\"viewBox=\"0 0 24 24\"\n",
              "       width=\"24px\">\n",
              "    <path d=\"M0 0h24v24H0V0z\" fill=\"none\"/>\n",
              "    <path d=\"M18.56 5.44l.94 2.06.94-2.06 2.06-.94-2.06-.94-.94-2.06-.94 2.06-2.06.94zm-11 1L8.5 8.5l.94-2.06 2.06-.94-2.06-.94L8.5 2.5l-.94 2.06-2.06.94zm10 10l.94 2.06.94-2.06 2.06-.94-2.06-.94-.94-2.06-.94 2.06-2.06.94z\"/><path d=\"M17.41 7.96l-1.37-1.37c-.4-.4-.92-.59-1.43-.59-.52 0-1.04.2-1.43.59L10.3 9.45l-7.72 7.72c-.78.78-.78 2.05 0 2.83L4 21.41c.39.39.9.59 1.41.59.51 0 1.02-.2 1.41-.59l7.78-7.78 2.81-2.81c.8-.78.8-2.07 0-2.86zM5.41 20L4 18.59l7.72-7.72 1.47 1.35L5.41 20z\"/>\n",
              "  </svg>\n",
              "      </button>\n",
              "      \n",
              "  <style>\n",
              "    .colab-df-container {\n",
              "      display:flex;\n",
              "      flex-wrap:wrap;\n",
              "      gap: 12px;\n",
              "    }\n",
              "\n",
              "    .colab-df-convert {\n",
              "      background-color: #E8F0FE;\n",
              "      border: none;\n",
              "      border-radius: 50%;\n",
              "      cursor: pointer;\n",
              "      display: none;\n",
              "      fill: #1967D2;\n",
              "      height: 32px;\n",
              "      padding: 0 0 0 0;\n",
              "      width: 32px;\n",
              "    }\n",
              "\n",
              "    .colab-df-convert:hover {\n",
              "      background-color: #E2EBFA;\n",
              "      box-shadow: 0px 1px 2px rgba(60, 64, 67, 0.3), 0px 1px 3px 1px rgba(60, 64, 67, 0.15);\n",
              "      fill: #174EA6;\n",
              "    }\n",
              "\n",
              "    [theme=dark] .colab-df-convert {\n",
              "      background-color: #3B4455;\n",
              "      fill: #D2E3FC;\n",
              "    }\n",
              "\n",
              "    [theme=dark] .colab-df-convert:hover {\n",
              "      background-color: #434B5C;\n",
              "      box-shadow: 0px 1px 3px 1px rgba(0, 0, 0, 0.15);\n",
              "      filter: drop-shadow(0px 1px 2px rgba(0, 0, 0, 0.3));\n",
              "      fill: #FFFFFF;\n",
              "    }\n",
              "  </style>\n",
              "\n",
              "      <script>\n",
              "        const buttonEl =\n",
              "          document.querySelector('#df-1ea659f8-4b2d-4dd8-8f97-ed8d6de40c96 button.colab-df-convert');\n",
              "        buttonEl.style.display =\n",
              "          google.colab.kernel.accessAllowed ? 'block' : 'none';\n",
              "\n",
              "        async function convertToInteractive(key) {\n",
              "          const element = document.querySelector('#df-1ea659f8-4b2d-4dd8-8f97-ed8d6de40c96');\n",
              "          const dataTable =\n",
              "            await google.colab.kernel.invokeFunction('convertToInteractive',\n",
              "                                                     [key], {});\n",
              "          if (!dataTable) return;\n",
              "\n",
              "          const docLinkHtml = 'Like what you see? Visit the ' +\n",
              "            '<a target=\"_blank\" href=https://colab.research.google.com/notebooks/data_table.ipynb>data table notebook</a>'\n",
              "            + ' to learn more about interactive tables.';\n",
              "          element.innerHTML = '';\n",
              "          dataTable['output_type'] = 'display_data';\n",
              "          await google.colab.output.renderOutput(dataTable, element);\n",
              "          const docLink = document.createElement('div');\n",
              "          docLink.innerHTML = docLinkHtml;\n",
              "          element.appendChild(docLink);\n",
              "        }\n",
              "      </script>\n",
              "    </div>\n",
              "  </div>\n",
              "  "
            ]
          },
          "metadata": {},
          "execution_count": 6
        }
      ],
      "source": [
        "df.head(30)"
      ]
    },
    {
      "cell_type": "code",
      "execution_count": null,
      "metadata": {
        "colab": {
          "base_uri": "https://localhost:8080/"
        },
        "id": "ZngVA5t_KXtV",
        "outputId": "6fda62a3-6bcc-43a6-9af4-ea80ed10d9bd"
      },
      "outputs": [
        {
          "output_type": "execute_result",
          "data": {
            "text/plain": [
              "(37728, 12)"
            ]
          },
          "metadata": {},
          "execution_count": 7
        }
      ],
      "source": [
        "df.shape"
      ]
    },
    {
      "cell_type": "code",
      "execution_count": null,
      "metadata": {
        "colab": {
          "base_uri": "https://localhost:8080/"
        },
        "id": "c1tV9x2hKaDW",
        "outputId": "ff5c7972-5d82-418d-826f-a60f63ec5af5"
      },
      "outputs": [
        {
          "output_type": "stream",
          "name": "stdout",
          "text": [
            "<class 'pandas.core.frame.DataFrame'>\n",
            "RangeIndex: 37728 entries, 0 to 37727\n",
            "Data columns (total 12 columns):\n",
            " #   Column      Non-Null Count  Dtype  \n",
            "---  ------      --------------  -----  \n",
            " 0   datetime    37728 non-null  object \n",
            " 1   week_X-2    37728 non-null  float64\n",
            " 2   week_X-3    37728 non-null  float64\n",
            " 3   week_X-4    37728 non-null  float64\n",
            " 4   MA_X-4      37728 non-null  float64\n",
            " 5   dayOfWeek   37728 non-null  int64  \n",
            " 6   weekend     37728 non-null  int64  \n",
            " 7   holiday     37728 non-null  int64  \n",
            " 8   Holiday_ID  37728 non-null  int64  \n",
            " 9   hourOfDay   37728 non-null  int64  \n",
            " 10  T2M_toc     37728 non-null  float64\n",
            " 11  DEMAND      37728 non-null  float64\n",
            "dtypes: float64(6), int64(5), object(1)\n",
            "memory usage: 3.5+ MB\n"
          ]
        }
      ],
      "source": [
        "df.info()"
      ]
    },
    {
      "cell_type": "code",
      "execution_count": null,
      "metadata": {
        "id": "7iLwh6OQKcBk"
      },
      "outputs": [],
      "source": [
        "## converting date column into datetime \n",
        "df['datetime']=pd.to_datetime(df['datetime'],infer_datetime_format=True)"
      ]
    },
    {
      "cell_type": "code",
      "execution_count": null,
      "metadata": {
        "colab": {
          "base_uri": "https://localhost:8080/",
          "height": 331
        },
        "id": "GxKlKdnrKjeo",
        "outputId": "ad90f9d3-a961-416b-e0e8-82dbd4c5fcdb"
      },
      "outputs": [
        {
          "output_type": "execute_result",
          "data": {
            "text/plain": [
              "array([<matplotlib.axes._subplots.AxesSubplot object at 0x7fd751f33d10>,\n",
              "       <matplotlib.axes._subplots.AxesSubplot object at 0x7fd751e92650>],\n",
              "      dtype=object)"
            ]
          },
          "metadata": {},
          "execution_count": 10
        },
        {
          "output_type": "display_data",
          "data": {
            "text/plain": [
              "<Figure size 432x288 with 2 Axes>"
            ],
            "image/png": "[encoded data removed]"
          },
          "metadata": {
            "needs_background": "light"
          }
        }
      ],
      "source": [
        "df.set_index('datetime')[['DEMAND','T2M_toc']].plot(subplots=True)"
      ]
    },
    {
      "cell_type": "code",
      "execution_count": null,
      "metadata": {
        "colab": {
          "base_uri": "https://localhost:8080/",
          "height": 364
        },
        "id": "pvmoRKwKKoK6",
        "outputId": "595f8dad-1c85-4630-b7b5-ebc68a7e8cae"
      },
      "outputs": [
        {
          "output_type": "execute_result",
          "data": {
            "text/plain": [
              "           week_X-2      week_X-3      week_X-4        MA_X-4     dayOfWeek  \\\n",
              "count  37728.000000  37728.000000  37728.000000  37728.000000  37728.000000   \n",
              "mean    1175.417257   1174.493712   1173.507579   1174.760605      3.996289   \n",
              "std      192.904280    192.608856    192.356014    184.931421      1.999652   \n",
              "min       85.192500     85.192500     85.192500    793.602650      1.000000   \n",
              "25%     1007.398325   1006.645700   1005.970875   1008.756267      2.000000   \n",
              "50%     1163.553400   1162.506350   1161.581450   1168.809737      4.000000   \n",
              "75%     1322.229025   1321.206225   1320.065125   1313.959094      6.000000   \n",
              "max     1719.043900   1719.043900   1719.043900   1651.254750      7.000000   \n",
              "\n",
              "            weekend       holiday    Holiday_ID     hourOfDay       T2M_toc  \\\n",
              "count  37728.000000  37728.000000  37728.000000  37728.000000  37728.000000   \n",
              "mean       0.286233      0.064885      0.723282     11.500000     27.377572   \n",
              "std        0.452006      0.246327      3.174830      6.922278      1.695219   \n",
              "min        0.000000      0.000000      0.000000      0.000000     22.953455   \n",
              "25%        0.000000      0.000000      0.000000      5.750000     26.135728   \n",
              "50%        0.000000      0.000000      0.000000     11.500000     27.095438   \n",
              "75%        1.000000      0.000000      0.000000     17.250000     28.533846   \n",
              "max        1.000000      1.000000     22.000000     23.000000     35.039575   \n",
              "\n",
              "             DEMAND  \n",
              "count  37728.000000  \n",
              "mean    1176.992223  \n",
              "std      192.724815  \n",
              "min       85.192500  \n",
              "25%     1009.288050  \n",
              "50%     1165.171050  \n",
              "75%     1323.893925  \n",
              "max     1719.043900  "
            ],
            "text/html": [
              "\n",
              "  <div id=\"df-8c2865c9-e771-487b-9918-51dc7455e53f\">\n",
              "    <div class=\"colab-df-container\">\n",
              "      <div>\n",
              "<style scoped>\n",
              "    .dataframe tbody tr th:only-of-type {\n",
              "        vertical-align: middle;\n",
              "    }\n",
              "\n",
              "    .dataframe tbody tr th {\n",
              "        vertical-align: top;\n",
              "    }\n",
              "\n",
              "    .dataframe thead th {\n",
              "        text-align: right;\n",
              "    }\n",
              "</style>\n",
              "<table border=\"1\" class=\"dataframe\">\n",
              "  <thead>\n",
              "    <tr style=\"text-align: right;\">\n",
              "      <th></th>\n",
              "      <th>week_X-2</th>\n",
              "      <th>week_X-3</th>\n",
              "      <th>week_X-4</th>\n",
              "      <th>MA_X-4</th>\n",
              "      <th>dayOfWeek</th>\n",
              "      <th>weekend</th>\n",
              "      <th>holiday</th>\n",
              "      <th>Holiday_ID</th>\n",
              "      <th>hourOfDay</th>\n",
              "      <th>T2M_toc</th>\n",
              "      <th>DEMAND</th>\n",
              "    </tr>\n",
              "  </thead>\n",
              "  <tbody>\n",
              "    <tr>\n",
              "      <th>count</th>\n",
              "      <td>37728.000000</td>\n",
              "      <td>37728.000000</td>\n",
              "      <td>37728.000000</td>\n",
              "      <td>37728.000000</td>\n",
              "      <td>37728.000000</td>\n",
              "      <td>37728.000000</td>\n",
              "      <td>37728.000000</td>\n",
              "      <td>37728.000000</td>\n",
              "      <td>37728.000000</td>\n",
              "      <td>37728.000000</td>\n",
              "      <td>37728.000000</td>\n",
              "    </tr>\n",
              "    <tr>\n",
              "      <th>mean</th>\n",
              "      <td>1175.417257</td>\n",
              "      <td>1174.493712</td>\n",
              "      <td>1173.507579</td>\n",
              "      <td>1174.760605</td>\n",
              "      <td>3.996289</td>\n",
              "      <td>0.286233</td>\n",
              "      <td>0.064885</td>\n",
              "      <td>0.723282</td>\n",
              "      <td>11.500000</td>\n",
              "      <td>27.377572</td>\n",
              "      <td>1176.992223</td>\n",
              "    </tr>\n",
              "    <tr>\n",
              "      <th>std</th>\n",
              "      <td>192.904280</td>\n",
              "      <td>192.608856</td>\n",
              "      <td>192.356014</td>\n",
              "      <td>184.931421</td>\n",
              "      <td>1.999652</td>\n",
              "      <td>0.452006</td>\n",
              "      <td>0.246327</td>\n",
              "      <td>3.174830</td>\n",
              "      <td>6.922278</td>\n",
              "      <td>1.695219</td>\n",
              "      <td>192.724815</td>\n",
              "    </tr>\n",
              "    <tr>\n",
              "      <th>min</th>\n",
              "      <td>85.192500</td>\n",
              "      <td>85.192500</td>\n",
              "      <td>85.192500</td>\n",
              "      <td>793.602650</td>\n",
              "      <td>1.000000</td>\n",
              "      <td>0.000000</td>\n",
              "      <td>0.000000</td>\n",
              "      <td>0.000000</td>\n",
              "      <td>0.000000</td>\n",
              "      <td>22.953455</td>\n",
              "      <td>85.192500</td>\n",
              "    </tr>\n",
              "    <tr>\n",
              "      <th>25%</th>\n",
              "      <td>1007.398325</td>\n",
              "      <td>1006.645700</td>\n",
              "      <td>1005.970875</td>\n",
              "      <td>1008.756267</td>\n",
              "      <td>2.000000</td>\n",
              "      <td>0.000000</td>\n",
              "      <td>0.000000</td>\n",
              "      <td>0.000000</td>\n",
              "      <td>5.750000</td>\n",
              "      <td>26.135728</td>\n",
              "      <td>1009.288050</td>\n",
              "    </tr>\n",
              "    <tr>\n",
              "      <th>50%</th>\n",
              "      <td>1163.553400</td>\n",
              "      <td>1162.506350</td>\n",
              "      <td>1161.581450</td>\n",
              "      <td>1168.809737</td>\n",
              "      <td>4.000000</td>\n",
              "      <td>0.000000</td>\n",
              "      <td>0.000000</td>\n",
              "      <td>0.000000</td>\n",
              "      <td>11.500000</td>\n",
              "      <td>27.095438</td>\n",
              "      <td>1165.171050</td>\n",
              "    </tr>\n",
              "    <tr>\n",
              "      <th>75%</th>\n",
              "      <td>1322.229025</td>\n",
              "      <td>1321.206225</td>\n",
              "      <td>1320.065125</td>\n",
              "      <td>1313.959094</td>\n",
              "      <td>6.000000</td>\n",
              "      <td>1.000000</td>\n",
              "      <td>0.000000</td>\n",
              "      <td>0.000000</td>\n",
              "      <td>17.250000</td>\n",
              "      <td>28.533846</td>\n",
              "      <td>1323.893925</td>\n",
              "    </tr>\n",
              "    <tr>\n",
              "      <th>max</th>\n",
              "      <td>1719.043900</td>\n",
              "      <td>1719.043900</td>\n",
              "      <td>1719.043900</td>\n",
              "      <td>1651.254750</td>\n",
              "      <td>7.000000</td>\n",
              "      <td>1.000000</td>\n",
              "      <td>1.000000</td>\n",
              "      <td>22.000000</td>\n",
              "      <td>23.000000</td>\n",
              "      <td>35.039575</td>\n",
              "      <td>1719.043900</td>\n",
              "    </tr>\n",
              "  </tbody>\n",
              "</table>\n",
              "</div>\n",
              "      <button class=\"colab-df-convert\" onclick=\"convertToInteractive('df-8c2865c9-e771-487b-9918-51dc7455e53f')\"\n",
              "              title=\"Convert this dataframe to an interactive table.\"\n",
              "              style=\"display:none;\">\n",
              "        \n",
              "  <svg xmlns=\"http://www.w3.org/2000/svg\" height=\"24px\"viewBox=\"0 0 24 24\"\n",
              "       width=\"24px\">\n",
              "    <path d=\"M0 0h24v24H0V0z\" fill=\"none\"/>\n",
              "    <path d=\"M18.56 5.44l.94 2.06.94-2.06 2.06-.94-2.06-.94-.94-2.06-.94 2.06-2.06.94zm-11 1L8.5 8.5l.94-2.06 2.06-.94-2.06-.94L8.5 2.5l-.94 2.06-2.06.94zm10 10l.94 2.06.94-2.06 2.06-.94-2.06-.94-.94-2.06-.94 2.06-2.06.94z\"/><path d=\"M17.41 7.96l-1.37-1.37c-.4-.4-.92-.59-1.43-.59-.52 0-1.04.2-1.43.59L10.3 9.45l-7.72 7.72c-.78.78-.78 2.05 0 2.83L4 21.41c.39.39.9.59 1.41.59.51 0 1.02-.2 1.41-.59l7.78-7.78 2.81-2.81c.8-.78.8-2.07 0-2.86zM5.41 20L4 18.59l7.72-7.72 1.47 1.35L5.41 20z\"/>\n",
              "  </svg>\n",
              "      </button>\n",
              "      \n",
              "  <style>\n",
              "    .colab-df-container {\n",
              "      display:flex;\n",
              "      flex-wrap:wrap;\n",
              "      gap: 12px;\n",
              "    }\n",
              "\n",
              "    .colab-df-convert {\n",
              "      background-color: #E8F0FE;\n",
              "      border: none;\n",
              "      border-radius: 50%;\n",
              "      cursor: pointer;\n",
              "      display: none;\n",
              "      fill: #1967D2;\n",
              "      height: 32px;\n",
              "      padding: 0 0 0 0;\n",
              "      width: 32px;\n",
              "    }\n",
              "\n",
              "    .colab-df-convert:hover {\n",
              "      background-color: #E2EBFA;\n",
              "      box-shadow: 0px 1px 2px rgba(60, 64, 67, 0.3), 0px 1px 3px 1px rgba(60, 64, 67, 0.15);\n",
              "      fill: #174EA6;\n",
              "    }\n",
              "\n",
              "    [theme=dark] .colab-df-convert {\n",
              "      background-color: #3B4455;\n",
              "      fill: #D2E3FC;\n",
              "    }\n",
              "\n",
              "    [theme=dark] .colab-df-convert:hover {\n",
              "      background-color: #434B5C;\n",
              "      box-shadow: 0px 1px 3px 1px rgba(0, 0, 0, 0.15);\n",
              "      filter: drop-shadow(0px 1px 2px rgba(0, 0, 0, 0.3));\n",
              "      fill: #FFFFFF;\n",
              "    }\n",
              "  </style>\n",
              "\n",
              "      <script>\n",
              "        const buttonEl =\n",
              "          document.querySelector('#df-8c2865c9-e771-487b-9918-51dc7455e53f button.colab-df-convert');\n",
              "        buttonEl.style.display =\n",
              "          google.colab.kernel.accessAllowed ? 'block' : 'none';\n",
              "\n",
              "        async function convertToInteractive(key) {\n",
              "          const element = document.querySelector('#df-8c2865c9-e771-487b-9918-51dc7455e53f');\n",
              "          const dataTable =\n",
              "            await google.colab.kernel.invokeFunction('convertToInteractive',\n",
              "                                                     [key], {});\n",
              "          if (!dataTable) return;\n",
              "\n",
              "          const docLinkHtml = 'Like what you see? Visit the ' +\n",
              "            '<a target=\"_blank\" href=https://colab.research.google.com/notebooks/data_table.ipynb>data table notebook</a>'\n",
              "            + ' to learn more about interactive tables.';\n",
              "          element.innerHTML = '';\n",
              "          dataTable['output_type'] = 'display_data';\n",
              "          await google.colab.output.renderOutput(dataTable, element);\n",
              "          const docLink = document.createElement('div');\n",
              "          docLink.innerHTML = docLinkHtml;\n",
              "          element.appendChild(docLink);\n",
              "        }\n",
              "      </script>\n",
              "    </div>\n",
              "  </div>\n",
              "  "
            ]
          },
          "metadata": {},
          "execution_count": 11
        }
      ],
      "source": [
        "df.describe()"
      ]
    },
    {
      "cell_type": "code",
      "execution_count": null,
      "metadata": {
        "colab": {
          "base_uri": "https://localhost:8080/"
        },
        "id": "E5nP15cQKu_C",
        "outputId": "33d4549d-8070-42a1-ebbd-5d82d87a8368"
      },
      "outputs": [
        {
          "output_type": "stream",
          "name": "stdout",
          "text": [
            "['week_X-2', 'week_X-3', 'week_X-4', 'MA_X-4', 'dayOfWeek', 'weekend', 'holiday', 'Holiday_ID', 'hourOfDay', 'T2M_toc', 'DEMAND']\n"
          ]
        }
      ],
      "source": [
        "#Variables for training\n",
        "cols = list(df)[1:]\n",
        "print(cols)"
      ]
    },
    {
      "cell_type": "code",
      "execution_count": null,
      "metadata": {
        "id": "AhWq_X2sLMNA"
      },
      "outputs": [],
      "source": [
        "model_datetime=df['datetime']"
      ]
    },
    {
      "cell_type": "code",
      "execution_count": null,
      "metadata": {
        "id": "E01pu5ONLUlC"
      },
      "outputs": [],
      "source": [
        "train_df=df[cols].astype(float)"
      ]
    },
    {
      "cell_type": "code",
      "execution_count": null,
      "metadata": {
        "id": "BN2P2YDhLYPX"
      },
      "outputs": [],
      "source": [
        "train_df=train_df[:36720:]"
      ]
    },
    {
      "cell_type": "code",
      "execution_count": null,
      "metadata": {
        "colab": {
          "base_uri": "https://localhost:8080/",
          "height": 424
        },
        "id": "7dQvTrPgLtoD",
        "outputId": "86f1ba9b-813b-4cf3-e9a5-6ce33e0942c9"
      },
      "outputs": [
        {
          "output_type": "execute_result",
          "data": {
            "text/plain": [
              "        week_X-2   week_X-3   week_X-4       MA_X-4  dayOfWeek  weekend  \\\n",
              "0       962.2865   906.9580   970.3450   938.004850        1.0      1.0   \n",
              "1       933.3221   863.5135   912.1755   900.284075        1.0      1.0   \n",
              "2       903.9817   848.4447   900.2688   881.704325        1.0      1.0   \n",
              "3       900.9995   839.8821   889.9538   876.458825        1.0      1.0   \n",
              "4       904.3481   847.1073   893.6865   879.190775        1.0      1.0   \n",
              "...          ...        ...        ...          ...        ...      ...   \n",
              "36715  1362.1477  1376.6220  1335.4711  1360.112475        4.0      0.0   \n",
              "36716  1330.7467  1338.3879  1305.3631  1332.959900        4.0      0.0   \n",
              "36717  1275.5550  1281.6932  1240.1208  1279.486450        4.0      0.0   \n",
              "36718  1200.3537  1209.2950  1165.0237  1199.699525        4.0      0.0   \n",
              "36719  1141.5161  1149.9883  1099.2100  1130.238133        5.0      0.0   \n",
              "\n",
              "       holiday  Holiday_ID  hourOfDay    T2M_toc     DEMAND  \n",
              "0          0.0         0.0        1.0  25.308496   954.2018  \n",
              "1          0.0         0.0        2.0  25.141443   913.8660  \n",
              "2          0.0         0.0        3.0  25.006738   903.3637  \n",
              "3          0.0         0.0        4.0  24.899713   889.0806  \n",
              "4          0.0         0.0        5.0  24.821558   910.1472  \n",
              "...        ...         ...        ...        ...        ...  \n",
              "36715      0.0         0.0       20.0  29.044763  1397.5788  \n",
              "36716      0.0         0.0       21.0  28.539545  1350.5093  \n",
              "36717      0.0         0.0       22.0  28.163232  1308.7955  \n",
              "36718      0.0         0.0       23.0  27.830194  1232.4521  \n",
              "36719      0.0         0.0        0.0  27.522791  1155.5925  \n",
              "\n",
              "[36720 rows x 11 columns]"
            ],
            "text/html": [
              "\n",
              "  <div id=\"df-595a8106-5bb0-4b91-9af9-e0025df03aac\">\n",
              "    <div class=\"colab-df-container\">\n",
              "      <div>\n",
              "<style scoped>\n",
              "    .dataframe tbody tr th:only-of-type {\n",
              "        vertical-align: middle;\n",
              "    }\n",
              "\n",
              "    .dataframe tbody tr th {\n",
              "        vertical-align: top;\n",
              "    }\n",
              "\n",
              "    .dataframe thead th {\n",
              "        text-align: right;\n",
              "    }\n",
              "</style>\n",
              "<table border=\"1\" class=\"dataframe\">\n",
              "  <thead>\n",
              "    <tr style=\"text-align: right;\">\n",
              "      <th></th>\n",
              "      <th>week_X-2</th>\n",
              "      <th>week_X-3</th>\n",
              "      <th>week_X-4</th>\n",
              "      <th>MA_X-4</th>\n",
              "      <th>dayOfWeek</th>\n",
              "      <th>weekend</th>\n",
              "      <th>holiday</th>\n",
              "      <th>Holiday_ID</th>\n",
              "      <th>hourOfDay</th>\n",
              "      <th>T2M_toc</th>\n",
              "      <th>DEMAND</th>\n",
              "    </tr>\n",
              "  </thead>\n",
              "  <tbody>\n",
              "    <tr>\n",
              "      <th>0</th>\n",
              "      <td>962.2865</td>\n",
              "      <td>906.9580</td>\n",
              "      <td>970.3450</td>\n",
              "      <td>938.004850</td>\n",
              "      <td>1.0</td>\n",
              "      <td>1.0</td>\n",
              "      <td>0.0</td>\n",
              "      <td>0.0</td>\n",
              "      <td>1.0</td>\n",
              "      <td>25.308496</td>\n",
              "      <td>954.2018</td>\n",
              "    </tr>\n",
              "    <tr>\n",
              "      <th>1</th>\n",
              "      <td>933.3221</td>\n",
              "      <td>863.5135</td>\n",
              "      <td>912.1755</td>\n",
              "      <td>900.284075</td>\n",
              "      <td>1.0</td>\n",
              "      <td>1.0</td>\n",
              "      <td>0.0</td>\n",
              "      <td>0.0</td>\n",
              "      <td>2.0</td>\n",
              "      <td>25.141443</td>\n",
              "      <td>913.8660</td>\n",
              "    </tr>\n",
              "    <tr>\n",
              "      <th>2</th>\n",
              "      <td>903.9817</td>\n",
              "      <td>848.4447</td>\n",
              "      <td>900.2688</td>\n",
              "      <td>881.704325</td>\n",
              "      <td>1.0</td>\n",
              "      <td>1.0</td>\n",
              "      <td>0.0</td>\n",
              "      <td>0.0</td>\n",
              "      <td>3.0</td>\n",
              "      <td>25.006738</td>\n",
              "      <td>903.3637</td>\n",
              "    </tr>\n",
              "    <tr>\n",
              "      <th>3</th>\n",
              "      <td>900.9995</td>\n",
              "      <td>839.8821</td>\n",
              "      <td>889.9538</td>\n",
              "      <td>876.458825</td>\n",
              "      <td>1.0</td>\n",
              "      <td>1.0</td>\n",
              "      <td>0.0</td>\n",
              "      <td>0.0</td>\n",
              "      <td>4.0</td>\n",
              "      <td>24.899713</td>\n",
              "      <td>889.0806</td>\n",
              "    </tr>\n",
              "    <tr>\n",
              "      <th>4</th>\n",
              "      <td>904.3481</td>\n",
              "      <td>847.1073</td>\n",
              "      <td>893.6865</td>\n",
              "      <td>879.190775</td>\n",
              "      <td>1.0</td>\n",
              "      <td>1.0</td>\n",
              "      <td>0.0</td>\n",
              "      <td>0.0</td>\n",
              "      <td>5.0</td>\n",
              "      <td>24.821558</td>\n",
              "      <td>910.1472</td>\n",
              "    </tr>\n",
              "    <tr>\n",
              "      <th>...</th>\n",
              "      <td>...</td>\n",
              "      <td>...</td>\n",
              "      <td>...</td>\n",
              "      <td>...</td>\n",
              "      <td>...</td>\n",
              "      <td>...</td>\n",
              "      <td>...</td>\n",
              "      <td>...</td>\n",
              "      <td>...</td>\n",
              "      <td>...</td>\n",
              "      <td>...</td>\n",
              "    </tr>\n",
              "    <tr>\n",
              "      <th>36715</th>\n",
              "      <td>1362.1477</td>\n",
              "      <td>1376.6220</td>\n",
              "      <td>1335.4711</td>\n",
              "      <td>1360.112475</td>\n",
              "      <td>4.0</td>\n",
              "      <td>0.0</td>\n",
              "      <td>0.0</td>\n",
              "      <td>0.0</td>\n",
              "      <td>20.0</td>\n",
              "      <td>29.044763</td>\n",
              "      <td>1397.5788</td>\n",
              "    </tr>\n",
              "    <tr>\n",
              "      <th>36716</th>\n",
              "      <td>1330.7467</td>\n",
              "      <td>1338.3879</td>\n",
              "      <td>1305.3631</td>\n",
              "      <td>1332.959900</td>\n",
              "      <td>4.0</td>\n",
              "      <td>0.0</td>\n",
              "      <td>0.0</td>\n",
              "      <td>0.0</td>\n",
              "      <td>21.0</td>\n",
              "      <td>28.539545</td>\n",
              "      <td>1350.5093</td>\n",
              "    </tr>\n",
              "    <tr>\n",
              "      <th>36717</th>\n",
              "      <td>1275.5550</td>\n",
              "      <td>1281.6932</td>\n",
              "      <td>1240.1208</td>\n",
              "      <td>1279.486450</td>\n",
              "      <td>4.0</td>\n",
              "      <td>0.0</td>\n",
              "      <td>0.0</td>\n",
              "      <td>0.0</td>\n",
              "      <td>22.0</td>\n",
              "      <td>28.163232</td>\n",
              "      <td>1308.7955</td>\n",
              "    </tr>\n",
              "    <tr>\n",
              "      <th>36718</th>\n",
              "      <td>1200.3537</td>\n",
              "      <td>1209.2950</td>\n",
              "      <td>1165.0237</td>\n",
              "      <td>1199.699525</td>\n",
              "      <td>4.0</td>\n",
              "      <td>0.0</td>\n",
              "      <td>0.0</td>\n",
              "      <td>0.0</td>\n",
              "      <td>23.0</td>\n",
              "      <td>27.830194</td>\n",
              "      <td>1232.4521</td>\n",
              "    </tr>\n",
              "    <tr>\n",
              "      <th>36719</th>\n",
              "      <td>1141.5161</td>\n",
              "      <td>1149.9883</td>\n",
              "      <td>1099.2100</td>\n",
              "      <td>1130.238133</td>\n",
              "      <td>5.0</td>\n",
              "      <td>0.0</td>\n",
              "      <td>0.0</td>\n",
              "      <td>0.0</td>\n",
              "      <td>0.0</td>\n",
              "      <td>27.522791</td>\n",
              "      <td>1155.5925</td>\n",
              "    </tr>\n",
              "  </tbody>\n",
              "</table>\n",
              "<p>36720 rows × 11 columns</p>\n",
              "</div>\n",
              "      <button class=\"colab-df-convert\" onclick=\"convertToInteractive('df-595a8106-5bb0-4b91-9af9-e0025df03aac')\"\n",
              "              title=\"Convert this dataframe to an interactive table.\"\n",
              "              style=\"display:none;\">\n",
              "        \n",
              "  <svg xmlns=\"http://www.w3.org/2000/svg\" height=\"24px\"viewBox=\"0 0 24 24\"\n",
              "       width=\"24px\">\n",
              "    <path d=\"M0 0h24v24H0V0z\" fill=\"none\"/>\n",
              "    <path d=\"M18.56 5.44l.94 2.06.94-2.06 2.06-.94-2.06-.94-.94-2.06-.94 2.06-2.06.94zm-11 1L8.5 8.5l.94-2.06 2.06-.94-2.06-.94L8.5 2.5l-.94 2.06-2.06.94zm10 10l.94 2.06.94-2.06 2.06-.94-2.06-.94-.94-2.06-.94 2.06-2.06.94z\"/><path d=\"M17.41 7.96l-1.37-1.37c-.4-.4-.92-.59-1.43-.59-.52 0-1.04.2-1.43.59L10.3 9.45l-7.72 7.72c-.78.78-.78 2.05 0 2.83L4 21.41c.39.39.9.59 1.41.59.51 0 1.02-.2 1.41-.59l7.78-7.78 2.81-2.81c.8-.78.8-2.07 0-2.86zM5.41 20L4 18.59l7.72-7.72 1.47 1.35L5.41 20z\"/>\n",
              "  </svg>\n",
              "      </button>\n",
              "      \n",
              "  <style>\n",
              "    .colab-df-container {\n",
              "      display:flex;\n",
              "      flex-wrap:wrap;\n",
              "      gap: 12px;\n",
              "    }\n",
              "\n",
              "    .colab-df-convert {\n",
              "      background-color: #E8F0FE;\n",
              "      border: none;\n",
              "      border-radius: 50%;\n",
              "      cursor: pointer;\n",
              "      display: none;\n",
              "      fill: #1967D2;\n",
              "      height: 32px;\n",
              "      padding: 0 0 0 0;\n",
              "      width: 32px;\n",
              "    }\n",
              "\n",
              "    .colab-df-convert:hover {\n",
              "      background-color: #E2EBFA;\n",
              "      box-shadow: 0px 1px 2px rgba(60, 64, 67, 0.3), 0px 1px 3px 1px rgba(60, 64, 67, 0.15);\n",
              "      fill: #174EA6;\n",
              "    }\n",
              "\n",
              "    [theme=dark] .colab-df-convert {\n",
              "      background-color: #3B4455;\n",
              "      fill: #D2E3FC;\n",
              "    }\n",
              "\n",
              "    [theme=dark] .colab-df-convert:hover {\n",
              "      background-color: #434B5C;\n",
              "      box-shadow: 0px 1px 3px 1px rgba(0, 0, 0, 0.15);\n",
              "      filter: drop-shadow(0px 1px 2px rgba(0, 0, 0, 0.3));\n",
              "      fill: #FFFFFF;\n",
              "    }\n",
              "  </style>\n",
              "\n",
              "      <script>\n",
              "        const buttonEl =\n",
              "          document.querySelector('#df-595a8106-5bb0-4b91-9af9-e0025df03aac button.colab-df-convert');\n",
              "        buttonEl.style.display =\n",
              "          google.colab.kernel.accessAllowed ? 'block' : 'none';\n",
              "\n",
              "        async function convertToInteractive(key) {\n",
              "          const element = document.querySelector('#df-595a8106-5bb0-4b91-9af9-e0025df03aac');\n",
              "          const dataTable =\n",
              "            await google.colab.kernel.invokeFunction('convertToInteractive',\n",
              "                                                     [key], {});\n",
              "          if (!dataTable) return;\n",
              "\n",
              "          const docLinkHtml = 'Like what you see? Visit the ' +\n",
              "            '<a target=\"_blank\" href=https://colab.research.google.com/notebooks/data_table.ipynb>data table notebook</a>'\n",
              "            + ' to learn more about interactive tables.';\n",
              "          element.innerHTML = '';\n",
              "          dataTable['output_type'] = 'display_data';\n",
              "          await google.colab.output.renderOutput(dataTable, element);\n",
              "          const docLink = document.createElement('div');\n",
              "          docLink.innerHTML = docLinkHtml;\n",
              "          element.appendChild(docLink);\n",
              "        }\n",
              "      </script>\n",
              "    </div>\n",
              "  </div>\n",
              "  "
            ]
          },
          "metadata": {},
          "execution_count": 16
        }
      ],
      "source": [
        "train_df"
      ]
    },
    {
      "cell_type": "code",
      "execution_count": null,
      "metadata": {
        "colab": {
          "base_uri": "https://localhost:8080/"
        },
        "id": "AdPzkz1lLvcc",
        "outputId": "12e7801a-1dc8-4bbc-9bf1-e8266196e4c3"
      },
      "outputs": [
        {
          "output_type": "stream",
          "name": "stdout",
          "text": [
            "<class 'pandas.core.frame.DataFrame'>\n",
            "RangeIndex: 36720 entries, 0 to 36719\n",
            "Data columns (total 11 columns):\n",
            " #   Column      Non-Null Count  Dtype  \n",
            "---  ------      --------------  -----  \n",
            " 0   week_X-2    36720 non-null  float64\n",
            " 1   week_X-3    36720 non-null  float64\n",
            " 2   week_X-4    36720 non-null  float64\n",
            " 3   MA_X-4      36720 non-null  float64\n",
            " 4   dayOfWeek   36720 non-null  float64\n",
            " 5   weekend     36720 non-null  float64\n",
            " 6   holiday     36720 non-null  float64\n",
            " 7   Holiday_ID  36720 non-null  float64\n",
            " 8   hourOfDay   36720 non-null  float64\n",
            " 9   T2M_toc     36720 non-null  float64\n",
            " 10  DEMAND      36720 non-null  float64\n",
            "dtypes: float64(11)\n",
            "memory usage: 3.1 MB\n"
          ]
        }
      ],
      "source": [
        "train_df.info()"
      ]
    },
    {
      "cell_type": "code",
      "execution_count": null,
      "metadata": {
        "id": "EkBBV1MtL1Pu"
      },
      "outputs": [],
      "source": [
        "scaler=StandardScaler()\n",
        "scaler=scaler.fit(train_df)\n",
        "scaled_train_df=scaler.transform(train_df)"
      ]
    },
    {
      "cell_type": "code",
      "execution_count": null,
      "metadata": {
        "colab": {
          "base_uri": "https://localhost:8080/"
        },
        "id": "Lt1fbP9wL4Jx",
        "outputId": "ece5e5e8-fcc4-49af-e73b-d81f0a55df34"
      },
      "outputs": [
        {
          "output_type": "execute_result",
          "data": {
            "text/plain": [
              "(36720, 11)"
            ]
          },
          "metadata": {},
          "execution_count": 19
        }
      ],
      "source": [
        "scaled_train_df.shape"
      ]
    },
    {
      "cell_type": "code",
      "execution_count": null,
      "metadata": {
        "id": "ZIqN0L-hL-Dq"
      },
      "outputs": [],
      "source": [
        "def process(arr):\n",
        "    ini_array1 = np.array(arr)\n",
        "    result = ini_array1.flatten()\n",
        "    return result"
      ]
    },
    {
      "cell_type": "code",
      "execution_count": null,
      "metadata": {
        "id": "k1uyDNIBMAY4"
      },
      "outputs": [],
      "source": [
        "def createdataset(dataset,timestep=1):\n",
        "    dataX,dataY=[],[]\n",
        "    for i in range(len(dataset)-timestep):\n",
        "        a=dataset[i:(i+timestep),:]\n",
        "        #process to convert 2-d datset to 1-d\n",
        "        b=process(a)\n",
        "        dataY.append(dataset[i+timestep,10])\n",
        "        dataX.append(b)\n",
        "    return np.array(dataX),np.array(dataY)\n",
        "        "
      ]
    },
    {
      "cell_type": "code",
      "execution_count": null,
      "metadata": {
        "id": "-EdFHhCiMCRv"
      },
      "outputs": [],
      "source": [
        "timestep=168\n",
        "X_train,Y_train=createdataset(scaled_train_df,timestep)"
      ]
    },
    {
      "cell_type": "code",
      "execution_count": null,
      "metadata": {
        "colab": {
          "base_uri": "https://localhost:8080/"
        },
        "id": "ts9nlfkeMHAx",
        "outputId": "8fc47d18-f77f-47ac-9fe5-53b11aee228f"
      },
      "outputs": [
        {
          "output_type": "execute_result",
          "data": {
            "text/plain": [
              "(36552, 1848)"
            ]
          },
          "metadata": {},
          "execution_count": 23
        }
      ],
      "source": [
        "X_train.shape"
      ]
    },
    {
      "cell_type": "code",
      "execution_count": null,
      "metadata": {
        "colab": {
          "base_uri": "https://localhost:8080/"
        },
        "id": "59X-iM4GMK65",
        "outputId": "ac444552-1563-4186-cef2-68d31b191efa"
      },
      "outputs": [
        {
          "output_type": "execute_result",
          "data": {
            "text/plain": [
              "(36552,)"
            ]
          },
          "metadata": {},
          "execution_count": 24
        }
      ],
      "source": [
        "Y_train.shape"
      ]
    },
    {
      "cell_type": "code",
      "execution_count": null,
      "metadata": {
        "colab": {
          "base_uri": "https://localhost:8080/"
        },
        "id": "5RL8OqGrMOUD",
        "outputId": "f0413228-0415-4fd1-d088-9da8f1bcc71d"
      },
      "outputs": [
        {
          "output_type": "execute_result",
          "data": {
            "text/plain": [
              "(36720, 11)"
            ]
          },
          "metadata": {},
          "execution_count": 25
        }
      ],
      "source": [
        "scaled_train_df.shape"
      ]
    },
    {
      "cell_type": "code",
      "execution_count": null,
      "metadata": {
        "id": "gy_mQEnxMP9T",
        "colab": {
          "base_uri": "https://localhost:8080/"
        },
        "outputId": "2c34eb36-a5ae-4657-8e13-6239b9944c2d"
      },
      "outputs": [
        {
          "output_type": "execute_result",
          "data": {
            "text/plain": [
              "SVR()"
            ]
          },
          "metadata": {},
          "execution_count": 26
        }
      ],
      "source": [
        "from sklearn.svm import SVR\n",
        "regressor=SVR(kernel='rbf')\n",
        "regressor.fit(X_train,Y_train)"
      ]
    },
    {
      "cell_type": "code",
      "execution_count": null,
      "metadata": {
        "id": "GMCYLnWPMR8r"
      },
      "outputs": [],
      "source": [
        "test_df=df[cols].astype(float)\n",
        "test_df=test_df[36552:36889:]"
      ]
    },
    {
      "cell_type": "code",
      "execution_count": null,
      "metadata": {
        "colab": {
          "base_uri": "https://localhost:8080/"
        },
        "id": "0DUzs0J3X5Qt",
        "outputId": "146cb6fe-559b-47d2-f2cd-45fdebbf5a4c"
      },
      "outputs": [
        {
          "output_type": "execute_result",
          "data": {
            "text/plain": [
              "(337, 11)"
            ]
          },
          "metadata": {},
          "execution_count": 30
        }
      ],
      "source": [
        "test_df.shape"
      ]
    },
    {
      "cell_type": "code",
      "execution_count": null,
      "metadata": {
        "id": "lJQT0C9qOzK4"
      },
      "outputs": [],
      "source": [
        "scaled_test_df=scaler.transform(test_df)"
      ]
    },
    {
      "cell_type": "code",
      "execution_count": null,
      "metadata": {
        "colab": {
          "base_uri": "https://localhost:8080/"
        },
        "id": "rWZJXQCzX_fZ",
        "outputId": "9c6f6f46-56b0-4323-f525-33d0dddbbd9f"
      },
      "outputs": [
        {
          "output_type": "execute_result",
          "data": {
            "text/plain": [
              "array([[-0.48225287, -0.56980791, -0.84223652, ..., -1.51686175,\n",
              "        -1.09415901, -0.30857715],\n",
              "       [-0.6301309 , -0.74852696, -1.00906129, ..., -1.37239873,\n",
              "        -1.13986853, -0.53007801],\n",
              "       [-0.75446822, -0.86556008, -1.14408532, ..., -1.2279357 ,\n",
              "        -1.17837029, -0.63934165],\n",
              "       ...,\n",
              "       [ 0.26949701,  0.1498907 ,  0.20088751, ...,  1.66132477,\n",
              "        -0.03211905,  0.48254197],\n",
              "       [-0.04000792, -0.1571202 , -0.10875419, ..., -1.66132477,\n",
              "        -0.13384264,  0.0443365 ],\n",
              "       [-0.29916379, -0.39280034, -0.47492601, ..., -1.51686175,\n",
              "        -0.26702322, -0.16158517]])"
            ]
          },
          "metadata": {},
          "execution_count": 32
        }
      ],
      "source": [
        "scaled_test_df"
      ]
    },
    {
      "cell_type": "code",
      "execution_count": null,
      "metadata": {
        "id": "dfLOdlWrOzNe"
      },
      "outputs": [],
      "source": [
        "timestep=168\n",
        "X_test,Y_test=createdataset(scaled_test_df,timestep)"
      ]
    },
    {
      "cell_type": "code",
      "execution_count": null,
      "metadata": {
        "colab": {
          "base_uri": "https://localhost:8080/"
        },
        "id": "JDcmmNP-XwB1",
        "outputId": "0a7585e6-498c-4eeb-8b7a-d17927bce3c8"
      },
      "outputs": [
        {
          "output_type": "execute_result",
          "data": {
            "text/plain": [
              "(169, 1848)"
            ]
          },
          "metadata": {},
          "execution_count": 34
        }
      ],
      "source": [
        "X_test.shape"
      ]
    },
    {
      "cell_type": "code",
      "execution_count": null,
      "metadata": {
        "colab": {
          "background_save": true
        },
        "id": "d8J1zgfPXwJn"
      },
      "outputs": [],
      "source": [
        ""
      ]
    },
    {
      "cell_type": "code",
      "execution_count": null,
      "metadata": {
        "id": "BSBzHp8KOzQM"
      },
      "outputs": [],
      "source": [
        "prediction=regressor.predict(X_test)"
      ]
    },
    {
      "cell_type": "code",
      "execution_count": null,
      "metadata": {
        "colab": {
          "base_uri": "https://localhost:8080/"
        },
        "id": "t8YuUPg2OzS-",
        "outputId": "1ca1cf7b-1000-4cb6-c32c-b1dc4a6a9701"
      },
      "outputs": [
        {
          "output_type": "execute_result",
          "data": {
            "text/plain": [
              "(169,)"
            ]
          },
          "metadata": {},
          "execution_count": 36
        }
      ],
      "source": [
        "prediction.shape"
      ]
    },
    {
      "cell_type": "code",
      "execution_count": null,
      "metadata": {
        "id": "cmdJ6QDdOzVk"
      },
      "outputs": [],
      "source": [
        "repetitions = train_df.shape[1]\n",
        "\n",
        "prediction_copies = np.transpose([prediction] * repetitions)"
      ]
    },
    {
      "cell_type": "code",
      "execution_count": null,
      "metadata": {
        "colab": {
          "base_uri": "https://localhost:8080/"
        },
        "id": "QLMkaab1OzYf",
        "outputId": "93e76915-7399-49dd-f6fa-105666e20bb5"
      },
      "outputs": [
        {
          "output_type": "execute_result",
          "data": {
            "text/plain": [
              "(169, 11)"
            ]
          },
          "metadata": {},
          "execution_count": 38
        }
      ],
      "source": [
        "prediction_copies.shape"
      ]
    },
    {
      "cell_type": "code",
      "execution_count": null,
      "metadata": {
        "id": "Vx1zvITlQitu"
      },
      "outputs": [],
      "source": [
        "y_pred_future = scaler.inverse_transform(prediction_copies)[:,0]"
      ]
    },
    {
      "cell_type": "code",
      "execution_count": null,
      "metadata": {
        "colab": {
          "base_uri": "https://localhost:8080/"
        },
        "id": "EaBmbRoLQixd",
        "outputId": "c04ac34e-611f-448c-e2fa-462ea8ed362e"
      },
      "outputs": [
        {
          "output_type": "execute_result",
          "data": {
            "text/plain": [
              "array([1110.97005382, 1079.26233479, 1056.32838602, 1043.1773719 ,\n",
              "       1052.41043145, 1053.55346523, 1179.08621433, 1343.76230572,\n",
              "       1441.51390233, 1517.10342964, 1551.43667545, 1553.04097303,\n",
              "       1570.71041455, 1571.39390592, 1539.38445089, 1465.99230221,\n",
              "       1351.3307159 , 1337.23743899, 1385.51193737, 1352.13549889,\n",
              "       1310.85398062, 1253.65146428, 1175.75109435, 1118.12504229,\n",
              "       1078.0934485 , 1050.00439101, 1027.86347886, 1023.81509975,\n",
              "       1040.88496751, 1050.27022457, 1179.28707367, 1341.62241249,\n",
              "       1433.66280306, 1497.91757223, 1526.66720557, 1521.94119856,\n",
              "       1537.41469125, 1542.4630028 , 1521.02669385, 1468.68230303,\n",
              "       1375.54125809, 1368.79626323, 1414.07188735, 1381.18588265,\n",
              "       1333.85586909, 1274.59113051, 1201.77055591, 1139.28423606,\n",
              "       1098.25417641, 1071.4580513 , 1049.7187637 , 1040.1168257 ,\n",
              "       1057.12588446, 1065.04144346, 1189.27801972, 1349.02772583,\n",
              "       1448.10295002, 1524.99004879, 1562.92033306, 1565.33179279,\n",
              "       1588.38235188, 1592.44067392, 1561.1532036 , 1484.08686923,\n",
              "       1373.96683769, 1362.85110413, 1410.74152759, 1384.13905388,\n",
              "       1340.80697874, 1292.30459931, 1245.52946881, 1194.04733031,\n",
              "       1146.69011404, 1113.03990548, 1084.0630371 , 1065.98364064,\n",
              "       1073.75030055, 1051.54014819, 1122.61610535, 1238.85952963,\n",
              "       1330.07453747, 1399.08032207, 1419.91528369, 1397.90533193,\n",
              "       1377.8113724 , 1356.00046575, 1328.6368902 , 1287.24177508,\n",
              "       1255.59233021, 1280.41035974, 1339.28802718, 1325.88177879,\n",
              "       1294.49237955, 1258.29468941, 1214.284766  , 1167.37772316,\n",
              "       1127.07638516, 1098.47416832, 1067.82106576, 1041.8246689 ,\n",
              "       1030.23600651,  984.60465058, 1005.13886051, 1054.3414133 ,\n",
              "       1101.58614369, 1162.31482036, 1197.05214478, 1206.08517375,\n",
              "       1212.46285028, 1214.35112288, 1207.20957668, 1194.06069939,\n",
              "       1180.05513821, 1216.78265089, 1274.04485118, 1276.98137293,\n",
              "       1266.18386326, 1223.54947575, 1159.38649165, 1109.2876139 ,\n",
              "       1079.11300077, 1055.77846641, 1032.56150445, 1022.10353865,\n",
              "       1038.29554614, 1044.11940473, 1166.5494343 , 1335.43730457,\n",
              "       1424.86793136, 1498.33812969, 1531.36170115, 1524.5072569 ,\n",
              "       1546.36153629, 1551.71514947, 1537.51575191, 1477.63489017,\n",
              "       1382.16586224, 1368.53985964, 1419.11106514, 1399.01116431,\n",
              "       1361.83282552, 1299.95501438, 1227.749477  , 1165.5380637 ,\n",
              "       1125.21470405, 1093.90892635, 1067.44261218, 1051.78468165,\n",
              "       1068.24540038, 1074.85612021, 1200.51724712, 1365.17886154,\n",
              "       1457.30424562, 1526.71695436, 1568.62783896, 1568.6010617 ,\n",
              "       1584.19722446, 1590.04025827, 1568.23403802, 1499.22921502,\n",
              "       1389.42726515, 1373.62559702, 1417.93631194, 1386.75754065,\n",
              "       1349.08328442, 1296.38155278, 1229.75307553, 1166.54255025,\n",
              "       1122.83000167])"
            ]
          },
          "metadata": {},
          "execution_count": 40
        }
      ],
      "source": [
        "y_pred_future"
      ]
    },
    {
      "cell_type": "code",
      "execution_count": null,
      "metadata": {
        "id": "fWyxqRXnQi1F"
      },
      "outputs": [],
      "source": [
        "forecast_period_dates=pd.date_range(list(df['datetime'])[36552],periods=169,freq='1H').tolist()"
      ]
    },
    {
      "cell_type": "code",
      "execution_count": null,
      "metadata": {
        "id": "tvEOImPgQi5Z",
        "colab": {
          "base_uri": "https://localhost:8080/"
        },
        "outputId": "a9cb1fa9-9c5a-48ef-cfaa-ce881919b797"
      },
      "outputs": [
        {
          "output_type": "execute_result",
          "data": {
            "text/plain": [
              "[Timestamp('2019-04-03 01:00:00', freq='H'),\n",
              " Timestamp('2019-04-03 02:00:00', freq='H'),\n",
              " Timestamp('2019-04-03 03:00:00', freq='H'),\n",
              " Timestamp('2019-04-03 04:00:00', freq='H'),\n",
              " Timestamp('2019-04-03 05:00:00', freq='H'),\n",
              " Timestamp('2019-04-03 06:00:00', freq='H'),\n",
              " Timestamp('2019-04-03 07:00:00', freq='H'),\n",
              " Timestamp('2019-04-03 08:00:00', freq='H'),\n",
              " Timestamp('2019-04-03 09:00:00', freq='H'),\n",
              " Timestamp('2019-04-03 10:00:00', freq='H'),\n",
              " Timestamp('2019-04-03 11:00:00', freq='H'),\n",
              " Timestamp('2019-04-03 12:00:00', freq='H'),\n",
              " Timestamp('2019-04-03 13:00:00', freq='H'),\n",
              " Timestamp('2019-04-03 14:00:00', freq='H'),\n",
              " Timestamp('2019-04-03 15:00:00', freq='H'),\n",
              " Timestamp('2019-04-03 16:00:00', freq='H'),\n",
              " Timestamp('2019-04-03 17:00:00', freq='H'),\n",
              " Timestamp('2019-04-03 18:00:00', freq='H'),\n",
              " Timestamp('2019-04-03 19:00:00', freq='H'),\n",
              " Timestamp('2019-04-03 20:00:00', freq='H'),\n",
              " Timestamp('2019-04-03 21:00:00', freq='H'),\n",
              " Timestamp('2019-04-03 22:00:00', freq='H'),\n",
              " Timestamp('2019-04-03 23:00:00', freq='H'),\n",
              " Timestamp('2019-04-04 00:00:00', freq='H'),\n",
              " Timestamp('2019-04-04 01:00:00', freq='H'),\n",
              " Timestamp('2019-04-04 02:00:00', freq='H'),\n",
              " Timestamp('2019-04-04 03:00:00', freq='H'),\n",
              " Timestamp('2019-04-04 04:00:00', freq='H'),\n",
              " Timestamp('2019-04-04 05:00:00', freq='H'),\n",
              " Timestamp('2019-04-04 06:00:00', freq='H'),\n",
              " Timestamp('2019-04-04 07:00:00', freq='H'),\n",
              " Timestamp('2019-04-04 08:00:00', freq='H'),\n",
              " Timestamp('2019-04-04 09:00:00', freq='H'),\n",
              " Timestamp('2019-04-04 10:00:00', freq='H'),\n",
              " Timestamp('2019-04-04 11:00:00', freq='H'),\n",
              " Timestamp('2019-04-04 12:00:00', freq='H'),\n",
              " Timestamp('2019-04-04 13:00:00', freq='H'),\n",
              " Timestamp('2019-04-04 14:00:00', freq='H'),\n",
              " Timestamp('2019-04-04 15:00:00', freq='H'),\n",
              " Timestamp('2019-04-04 16:00:00', freq='H'),\n",
              " Timestamp('2019-04-04 17:00:00', freq='H'),\n",
              " Timestamp('2019-04-04 18:00:00', freq='H'),\n",
              " Timestamp('2019-04-04 19:00:00', freq='H'),\n",
              " Timestamp('2019-04-04 20:00:00', freq='H'),\n",
              " Timestamp('2019-04-04 21:00:00', freq='H'),\n",
              " Timestamp('2019-04-04 22:00:00', freq='H'),\n",
              " Timestamp('2019-04-04 23:00:00', freq='H'),\n",
              " Timestamp('2019-04-05 00:00:00', freq='H'),\n",
              " Timestamp('2019-04-05 01:00:00', freq='H'),\n",
              " Timestamp('2019-04-05 02:00:00', freq='H'),\n",
              " Timestamp('2019-04-05 03:00:00', freq='H'),\n",
              " Timestamp('2019-04-05 04:00:00', freq='H'),\n",
              " Timestamp('2019-04-05 05:00:00', freq='H'),\n",
              " Timestamp('2019-04-05 06:00:00', freq='H'),\n",
              " Timestamp('2019-04-05 07:00:00', freq='H'),\n",
              " Timestamp('2019-04-05 08:00:00', freq='H'),\n",
              " Timestamp('2019-04-05 09:00:00', freq='H'),\n",
              " Timestamp('2019-04-05 10:00:00', freq='H'),\n",
              " Timestamp('2019-04-05 11:00:00', freq='H'),\n",
              " Timestamp('2019-04-05 12:00:00', freq='H'),\n",
              " Timestamp('2019-04-05 13:00:00', freq='H'),\n",
              " Timestamp('2019-04-05 14:00:00', freq='H'),\n",
              " Timestamp('2019-04-05 15:00:00', freq='H'),\n",
              " Timestamp('2019-04-05 16:00:00', freq='H'),\n",
              " Timestamp('2019-04-05 17:00:00', freq='H'),\n",
              " Timestamp('2019-04-05 18:00:00', freq='H'),\n",
              " Timestamp('2019-04-05 19:00:00', freq='H'),\n",
              " Timestamp('2019-04-05 20:00:00', freq='H'),\n",
              " Timestamp('2019-04-05 21:00:00', freq='H'),\n",
              " Timestamp('2019-04-05 22:00:00', freq='H'),\n",
              " Timestamp('2019-04-05 23:00:00', freq='H'),\n",
              " Timestamp('2019-04-06 00:00:00', freq='H'),\n",
              " Timestamp('2019-04-06 01:00:00', freq='H'),\n",
              " Timestamp('2019-04-06 02:00:00', freq='H'),\n",
              " Timestamp('2019-04-06 03:00:00', freq='H'),\n",
              " Timestamp('2019-04-06 04:00:00', freq='H'),\n",
              " Timestamp('2019-04-06 05:00:00', freq='H'),\n",
              " Timestamp('2019-04-06 06:00:00', freq='H'),\n",
              " Timestamp('2019-04-06 07:00:00', freq='H'),\n",
              " Timestamp('2019-04-06 08:00:00', freq='H'),\n",
              " Timestamp('2019-04-06 09:00:00', freq='H'),\n",
              " Timestamp('2019-04-06 10:00:00', freq='H'),\n",
              " Timestamp('2019-04-06 11:00:00', freq='H'),\n",
              " Timestamp('2019-04-06 12:00:00', freq='H'),\n",
              " Timestamp('2019-04-06 13:00:00', freq='H'),\n",
              " Timestamp('2019-04-06 14:00:00', freq='H'),\n",
              " Timestamp('2019-04-06 15:00:00', freq='H'),\n",
              " Timestamp('2019-04-06 16:00:00', freq='H'),\n",
              " Timestamp('2019-04-06 17:00:00', freq='H'),\n",
              " Timestamp('2019-04-06 18:00:00', freq='H'),\n",
              " Timestamp('2019-04-06 19:00:00', freq='H'),\n",
              " Timestamp('2019-04-06 20:00:00', freq='H'),\n",
              " Timestamp('2019-04-06 21:00:00', freq='H'),\n",
              " Timestamp('2019-04-06 22:00:00', freq='H'),\n",
              " Timestamp('2019-04-06 23:00:00', freq='H'),\n",
              " Timestamp('2019-04-07 00:00:00', freq='H'),\n",
              " Timestamp('2019-04-07 01:00:00', freq='H'),\n",
              " Timestamp('2019-04-07 02:00:00', freq='H'),\n",
              " Timestamp('2019-04-07 03:00:00', freq='H'),\n",
              " Timestamp('2019-04-07 04:00:00', freq='H'),\n",
              " Timestamp('2019-04-07 05:00:00', freq='H'),\n",
              " Timestamp('2019-04-07 06:00:00', freq='H'),\n",
              " Timestamp('2019-04-07 07:00:00', freq='H'),\n",
              " Timestamp('2019-04-07 08:00:00', freq='H'),\n",
              " Timestamp('2019-04-07 09:00:00', freq='H'),\n",
              " Timestamp('2019-04-07 10:00:00', freq='H'),\n",
              " Timestamp('2019-04-07 11:00:00', freq='H'),\n",
              " Timestamp('2019-04-07 12:00:00', freq='H'),\n",
              " Timestamp('2019-04-07 13:00:00', freq='H'),\n",
              " Timestamp('2019-04-07 14:00:00', freq='H'),\n",
              " Timestamp('2019-04-07 15:00:00', freq='H'),\n",
              " Timestamp('2019-04-07 16:00:00', freq='H'),\n",
              " Timestamp('2019-04-07 17:00:00', freq='H'),\n",
              " Timestamp('2019-04-07 18:00:00', freq='H'),\n",
              " Timestamp('2019-04-07 19:00:00', freq='H'),\n",
              " Timestamp('2019-04-07 20:00:00', freq='H'),\n",
              " Timestamp('2019-04-07 21:00:00', freq='H'),\n",
              " Timestamp('2019-04-07 22:00:00', freq='H'),\n",
              " Timestamp('2019-04-07 23:00:00', freq='H'),\n",
              " Timestamp('2019-04-08 00:00:00', freq='H'),\n",
              " Timestamp('2019-04-08 01:00:00', freq='H'),\n",
              " Timestamp('2019-04-08 02:00:00', freq='H'),\n",
              " Timestamp('2019-04-08 03:00:00', freq='H'),\n",
              " Timestamp('2019-04-08 04:00:00', freq='H'),\n",
              " Timestamp('2019-04-08 05:00:00', freq='H'),\n",
              " Timestamp('2019-04-08 06:00:00', freq='H'),\n",
              " Timestamp('2019-04-08 07:00:00', freq='H'),\n",
              " Timestamp('2019-04-08 08:00:00', freq='H'),\n",
              " Timestamp('2019-04-08 09:00:00', freq='H'),\n",
              " Timestamp('2019-04-08 10:00:00', freq='H'),\n",
              " Timestamp('2019-04-08 11:00:00', freq='H'),\n",
              " Timestamp('2019-04-08 12:00:00', freq='H'),\n",
              " Timestamp('2019-04-08 13:00:00', freq='H'),\n",
              " Timestamp('2019-04-08 14:00:00', freq='H'),\n",
              " Timestamp('2019-04-08 15:00:00', freq='H'),\n",
              " Timestamp('2019-04-08 16:00:00', freq='H'),\n",
              " Timestamp('2019-04-08 17:00:00', freq='H'),\n",
              " Timestamp('2019-04-08 18:00:00', freq='H'),\n",
              " Timestamp('2019-04-08 19:00:00', freq='H'),\n",
              " Timestamp('2019-04-08 20:00:00', freq='H'),\n",
              " Timestamp('2019-04-08 21:00:00', freq='H'),\n",
              " Timestamp('2019-04-08 22:00:00', freq='H'),\n",
              " Timestamp('2019-04-08 23:00:00', freq='H'),\n",
              " Timestamp('2019-04-09 00:00:00', freq='H'),\n",
              " Timestamp('2019-04-09 01:00:00', freq='H'),\n",
              " Timestamp('2019-04-09 02:00:00', freq='H'),\n",
              " Timestamp('2019-04-09 03:00:00', freq='H'),\n",
              " Timestamp('2019-04-09 04:00:00', freq='H'),\n",
              " Timestamp('2019-04-09 05:00:00', freq='H'),\n",
              " Timestamp('2019-04-09 06:00:00', freq='H'),\n",
              " Timestamp('2019-04-09 07:00:00', freq='H'),\n",
              " Timestamp('2019-04-09 08:00:00', freq='H'),\n",
              " Timestamp('2019-04-09 09:00:00', freq='H'),\n",
              " Timestamp('2019-04-09 10:00:00', freq='H'),\n",
              " Timestamp('2019-04-09 11:00:00', freq='H'),\n",
              " Timestamp('2019-04-09 12:00:00', freq='H'),\n",
              " Timestamp('2019-04-09 13:00:00', freq='H'),\n",
              " Timestamp('2019-04-09 14:00:00', freq='H'),\n",
              " Timestamp('2019-04-09 15:00:00', freq='H'),\n",
              " Timestamp('2019-04-09 16:00:00', freq='H'),\n",
              " Timestamp('2019-04-09 17:00:00', freq='H'),\n",
              " Timestamp('2019-04-09 18:00:00', freq='H'),\n",
              " Timestamp('2019-04-09 19:00:00', freq='H'),\n",
              " Timestamp('2019-04-09 20:00:00', freq='H'),\n",
              " Timestamp('2019-04-09 21:00:00', freq='H'),\n",
              " Timestamp('2019-04-09 22:00:00', freq='H'),\n",
              " Timestamp('2019-04-09 23:00:00', freq='H'),\n",
              " Timestamp('2019-04-10 00:00:00', freq='H'),\n",
              " Timestamp('2019-04-10 01:00:00', freq='H')]"
            ]
          },
          "metadata": {},
          "execution_count": 45
        }
      ],
      "source": [
        "forecast_period_dates"
      ]
    },
    {
      "cell_type": "code",
      "source": [
        "#timestamp to datetime\n",
        "forecast_dates = []\n",
        "for time_i in forecast_period_dates:\n",
        "    forecast_dates.append(time_i.to_pydatetime())"
      ],
      "metadata": {
        "id": "QSm5LN0Ibvu8"
      },
      "execution_count": null,
      "outputs": []
    },
    {
      "cell_type": "code",
      "source": [
        "forecast_dates"
      ],
      "metadata": {
        "colab": {
          "base_uri": "https://localhost:8080/"
        },
        "id": "aOHc2yO-bvxr",
        "outputId": "0bc9e9dd-74f6-4dd0-ed61-1203b5adb0bc"
      },
      "execution_count": null,
      "outputs": [
        {
          "output_type": "execute_result",
          "data": {
            "text/plain": [
              "[datetime.datetime(2019, 4, 3, 1, 0),\n",
              " datetime.datetime(2019, 4, 3, 2, 0),\n",
              " datetime.datetime(2019, 4, 3, 3, 0),\n",
              " datetime.datetime(2019, 4, 3, 4, 0),\n",
              " datetime.datetime(2019, 4, 3, 5, 0),\n",
              " datetime.datetime(2019, 4, 3, 6, 0),\n",
              " datetime.datetime(2019, 4, 3, 7, 0),\n",
              " datetime.datetime(2019, 4, 3, 8, 0),\n",
              " datetime.datetime(2019, 4, 3, 9, 0),\n",
              " datetime.datetime(2019, 4, 3, 10, 0),\n",
              " datetime.datetime(2019, 4, 3, 11, 0),\n",
              " datetime.datetime(2019, 4, 3, 12, 0),\n",
              " datetime.datetime(2019, 4, 3, 13, 0),\n",
              " datetime.datetime(2019, 4, 3, 14, 0),\n",
              " datetime.datetime(2019, 4, 3, 15, 0),\n",
              " datetime.datetime(2019, 4, 3, 16, 0),\n",
              " datetime.datetime(2019, 4, 3, 17, 0),\n",
              " datetime.datetime(2019, 4, 3, 18, 0),\n",
              " datetime.datetime(2019, 4, 3, 19, 0),\n",
              " datetime.datetime(2019, 4, 3, 20, 0),\n",
              " datetime.datetime(2019, 4, 3, 21, 0),\n",
              " datetime.datetime(2019, 4, 3, 22, 0),\n",
              " datetime.datetime(2019, 4, 3, 23, 0),\n",
              " datetime.datetime(2019, 4, 4, 0, 0),\n",
              " datetime.datetime(2019, 4, 4, 1, 0),\n",
              " datetime.datetime(2019, 4, 4, 2, 0),\n",
              " datetime.datetime(2019, 4, 4, 3, 0),\n",
              " datetime.datetime(2019, 4, 4, 4, 0),\n",
              " datetime.datetime(2019, 4, 4, 5, 0),\n",
              " datetime.datetime(2019, 4, 4, 6, 0),\n",
              " datetime.datetime(2019, 4, 4, 7, 0),\n",
              " datetime.datetime(2019, 4, 4, 8, 0),\n",
              " datetime.datetime(2019, 4, 4, 9, 0),\n",
              " datetime.datetime(2019, 4, 4, 10, 0),\n",
              " datetime.datetime(2019, 4, 4, 11, 0),\n",
              " datetime.datetime(2019, 4, 4, 12, 0),\n",
              " datetime.datetime(2019, 4, 4, 13, 0),\n",
              " datetime.datetime(2019, 4, 4, 14, 0),\n",
              " datetime.datetime(2019, 4, 4, 15, 0),\n",
              " datetime.datetime(2019, 4, 4, 16, 0),\n",
              " datetime.datetime(2019, 4, 4, 17, 0),\n",
              " datetime.datetime(2019, 4, 4, 18, 0),\n",
              " datetime.datetime(2019, 4, 4, 19, 0),\n",
              " datetime.datetime(2019, 4, 4, 20, 0),\n",
              " datetime.datetime(2019, 4, 4, 21, 0),\n",
              " datetime.datetime(2019, 4, 4, 22, 0),\n",
              " datetime.datetime(2019, 4, 4, 23, 0),\n",
              " datetime.datetime(2019, 4, 5, 0, 0),\n",
              " datetime.datetime(2019, 4, 5, 1, 0),\n",
              " datetime.datetime(2019, 4, 5, 2, 0),\n",
              " datetime.datetime(2019, 4, 5, 3, 0),\n",
              " datetime.datetime(2019, 4, 5, 4, 0),\n",
              " datetime.datetime(2019, 4, 5, 5, 0),\n",
              " datetime.datetime(2019, 4, 5, 6, 0),\n",
              " datetime.datetime(2019, 4, 5, 7, 0),\n",
              " datetime.datetime(2019, 4, 5, 8, 0),\n",
              " datetime.datetime(2019, 4, 5, 9, 0),\n",
              " datetime.datetime(2019, 4, 5, 10, 0),\n",
              " datetime.datetime(2019, 4, 5, 11, 0),\n",
              " datetime.datetime(2019, 4, 5, 12, 0),\n",
              " datetime.datetime(2019, 4, 5, 13, 0),\n",
              " datetime.datetime(2019, 4, 5, 14, 0),\n",
              " datetime.datetime(2019, 4, 5, 15, 0),\n",
              " datetime.datetime(2019, 4, 5, 16, 0),\n",
              " datetime.datetime(2019, 4, 5, 17, 0),\n",
              " datetime.datetime(2019, 4, 5, 18, 0),\n",
              " datetime.datetime(2019, 4, 5, 19, 0),\n",
              " datetime.datetime(2019, 4, 5, 20, 0),\n",
              " datetime.datetime(2019, 4, 5, 21, 0),\n",
              " datetime.datetime(2019, 4, 5, 22, 0),\n",
              " datetime.datetime(2019, 4, 5, 23, 0),\n",
              " datetime.datetime(2019, 4, 6, 0, 0),\n",
              " datetime.datetime(2019, 4, 6, 1, 0),\n",
              " datetime.datetime(2019, 4, 6, 2, 0),\n",
              " datetime.datetime(2019, 4, 6, 3, 0),\n",
              " datetime.datetime(2019, 4, 6, 4, 0),\n",
              " datetime.datetime(2019, 4, 6, 5, 0),\n",
              " datetime.datetime(2019, 4, 6, 6, 0),\n",
              " datetime.datetime(2019, 4, 6, 7, 0),\n",
              " datetime.datetime(2019, 4, 6, 8, 0),\n",
              " datetime.datetime(2019, 4, 6, 9, 0),\n",
              " datetime.datetime(2019, 4, 6, 10, 0),\n",
              " datetime.datetime(2019, 4, 6, 11, 0),\n",
              " datetime.datetime(2019, 4, 6, 12, 0),\n",
              " datetime.datetime(2019, 4, 6, 13, 0),\n",
              " datetime.datetime(2019, 4, 6, 14, 0),\n",
              " datetime.datetime(2019, 4, 6, 15, 0),\n",
              " datetime.datetime(2019, 4, 6, 16, 0),\n",
              " datetime.datetime(2019, 4, 6, 17, 0),\n",
              " datetime.datetime(2019, 4, 6, 18, 0),\n",
              " datetime.datetime(2019, 4, 6, 19, 0),\n",
              " datetime.datetime(2019, 4, 6, 20, 0),\n",
              " datetime.datetime(2019, 4, 6, 21, 0),\n",
              " datetime.datetime(2019, 4, 6, 22, 0),\n",
              " datetime.datetime(2019, 4, 6, 23, 0),\n",
              " datetime.datetime(2019, 4, 7, 0, 0),\n",
              " datetime.datetime(2019, 4, 7, 1, 0),\n",
              " datetime.datetime(2019, 4, 7, 2, 0),\n",
              " datetime.datetime(2019, 4, 7, 3, 0),\n",
              " datetime.datetime(2019, 4, 7, 4, 0),\n",
              " datetime.datetime(2019, 4, 7, 5, 0),\n",
              " datetime.datetime(2019, 4, 7, 6, 0),\n",
              " datetime.datetime(2019, 4, 7, 7, 0),\n",
              " datetime.datetime(2019, 4, 7, 8, 0),\n",
              " datetime.datetime(2019, 4, 7, 9, 0),\n",
              " datetime.datetime(2019, 4, 7, 10, 0),\n",
              " datetime.datetime(2019, 4, 7, 11, 0),\n",
              " datetime.datetime(2019, 4, 7, 12, 0),\n",
              " datetime.datetime(2019, 4, 7, 13, 0),\n",
              " datetime.datetime(2019, 4, 7, 14, 0),\n",
              " datetime.datetime(2019, 4, 7, 15, 0),\n",
              " datetime.datetime(2019, 4, 7, 16, 0),\n",
              " datetime.datetime(2019, 4, 7, 17, 0),\n",
              " datetime.datetime(2019, 4, 7, 18, 0),\n",
              " datetime.datetime(2019, 4, 7, 19, 0),\n",
              " datetime.datetime(2019, 4, 7, 20, 0),\n",
              " datetime.datetime(2019, 4, 7, 21, 0),\n",
              " datetime.datetime(2019, 4, 7, 22, 0),\n",
              " datetime.datetime(2019, 4, 7, 23, 0),\n",
              " datetime.datetime(2019, 4, 8, 0, 0),\n",
              " datetime.datetime(2019, 4, 8, 1, 0),\n",
              " datetime.datetime(2019, 4, 8, 2, 0),\n",
              " datetime.datetime(2019, 4, 8, 3, 0),\n",
              " datetime.datetime(2019, 4, 8, 4, 0),\n",
              " datetime.datetime(2019, 4, 8, 5, 0),\n",
              " datetime.datetime(2019, 4, 8, 6, 0),\n",
              " datetime.datetime(2019, 4, 8, 7, 0),\n",
              " datetime.datetime(2019, 4, 8, 8, 0),\n",
              " datetime.datetime(2019, 4, 8, 9, 0),\n",
              " datetime.datetime(2019, 4, 8, 10, 0),\n",
              " datetime.datetime(2019, 4, 8, 11, 0),\n",
              " datetime.datetime(2019, 4, 8, 12, 0),\n",
              " datetime.datetime(2019, 4, 8, 13, 0),\n",
              " datetime.datetime(2019, 4, 8, 14, 0),\n",
              " datetime.datetime(2019, 4, 8, 15, 0),\n",
              " datetime.datetime(2019, 4, 8, 16, 0),\n",
              " datetime.datetime(2019, 4, 8, 17, 0),\n",
              " datetime.datetime(2019, 4, 8, 18, 0),\n",
              " datetime.datetime(2019, 4, 8, 19, 0),\n",
              " datetime.datetime(2019, 4, 8, 20, 0),\n",
              " datetime.datetime(2019, 4, 8, 21, 0),\n",
              " datetime.datetime(2019, 4, 8, 22, 0),\n",
              " datetime.datetime(2019, 4, 8, 23, 0),\n",
              " datetime.datetime(2019, 4, 9, 0, 0),\n",
              " datetime.datetime(2019, 4, 9, 1, 0),\n",
              " datetime.datetime(2019, 4, 9, 2, 0),\n",
              " datetime.datetime(2019, 4, 9, 3, 0),\n",
              " datetime.datetime(2019, 4, 9, 4, 0),\n",
              " datetime.datetime(2019, 4, 9, 5, 0),\n",
              " datetime.datetime(2019, 4, 9, 6, 0),\n",
              " datetime.datetime(2019, 4, 9, 7, 0),\n",
              " datetime.datetime(2019, 4, 9, 8, 0),\n",
              " datetime.datetime(2019, 4, 9, 9, 0),\n",
              " datetime.datetime(2019, 4, 9, 10, 0),\n",
              " datetime.datetime(2019, 4, 9, 11, 0),\n",
              " datetime.datetime(2019, 4, 9, 12, 0),\n",
              " datetime.datetime(2019, 4, 9, 13, 0),\n",
              " datetime.datetime(2019, 4, 9, 14, 0),\n",
              " datetime.datetime(2019, 4, 9, 15, 0),\n",
              " datetime.datetime(2019, 4, 9, 16, 0),\n",
              " datetime.datetime(2019, 4, 9, 17, 0),\n",
              " datetime.datetime(2019, 4, 9, 18, 0),\n",
              " datetime.datetime(2019, 4, 9, 19, 0),\n",
              " datetime.datetime(2019, 4, 9, 20, 0),\n",
              " datetime.datetime(2019, 4, 9, 21, 0),\n",
              " datetime.datetime(2019, 4, 9, 22, 0),\n",
              " datetime.datetime(2019, 4, 9, 23, 0),\n",
              " datetime.datetime(2019, 4, 10, 0, 0),\n",
              " datetime.datetime(2019, 4, 10, 1, 0)]"
            ]
          },
          "metadata": {},
          "execution_count": 47
        }
      ]
    },
    {
      "cell_type": "code",
      "execution_count": null,
      "metadata": {
        "id": "b5QD7jwBQi8k"
      },
      "outputs": [],
      "source": [
        "df_forecast = pd.DataFrame({'Date':np.array(forecast_dates), 'DEMAND':y_pred_future})\n",
        "df_forecast['Date']=pd.to_datetime(df_forecast['Date'])"
      ]
    },
    {
      "cell_type": "code",
      "source": [
        "df_forecast"
      ],
      "metadata": {
        "colab": {
          "base_uri": "https://localhost:8080/",
          "height": 424
        },
        "id": "p4gue_MmbbKl",
        "outputId": "b45d7a68-2830-4724-82ba-eed769c36fb2"
      },
      "execution_count": null,
      "outputs": [
        {
          "output_type": "execute_result",
          "data": {
            "text/plain": [
              "                   Date       DEMAND\n",
              "0   2019-04-03 01:00:00  1110.970054\n",
              "1   2019-04-03 02:00:00  1079.262335\n",
              "2   2019-04-03 03:00:00  1056.328386\n",
              "3   2019-04-03 04:00:00  1043.177372\n",
              "4   2019-04-03 05:00:00  1052.410431\n",
              "..                  ...          ...\n",
              "164 2019-04-09 21:00:00  1349.083284\n",
              "165 2019-04-09 22:00:00  1296.381553\n",
              "166 2019-04-09 23:00:00  1229.753076\n",
              "167 2019-04-10 00:00:00  1166.542550\n",
              "168 2019-04-10 01:00:00  1122.830002\n",
              "\n",
              "[169 rows x 2 columns]"
            ],
            "text/html": [
              "\n",
              "  <div id=\"df-eb61e4f0-7424-4dcc-9500-e1904f5164e1\">\n",
              "    <div class=\"colab-df-container\">\n",
              "      <div>\n",
              "<style scoped>\n",
              "    .dataframe tbody tr th:only-of-type {\n",
              "        vertical-align: middle;\n",
              "    }\n",
              "\n",
              "    .dataframe tbody tr th {\n",
              "        vertical-align: top;\n",
              "    }\n",
              "\n",
              "    .dataframe thead th {\n",
              "        text-align: right;\n",
              "    }\n",
              "</style>\n",
              "<table border=\"1\" class=\"dataframe\">\n",
              "  <thead>\n",
              "    <tr style=\"text-align: right;\">\n",
              "      <th></th>\n",
              "      <th>Date</th>\n",
              "      <th>DEMAND</th>\n",
              "    </tr>\n",
              "  </thead>\n",
              "  <tbody>\n",
              "    <tr>\n",
              "      <th>0</th>\n",
              "      <td>2019-04-03 01:00:00</td>\n",
              "      <td>1110.970054</td>\n",
              "    </tr>\n",
              "    <tr>\n",
              "      <th>1</th>\n",
              "      <td>2019-04-03 02:00:00</td>\n",
              "      <td>1079.262335</td>\n",
              "    </tr>\n",
              "    <tr>\n",
              "      <th>2</th>\n",
              "      <td>2019-04-03 03:00:00</td>\n",
              "      <td>1056.328386</td>\n",
              "    </tr>\n",
              "    <tr>\n",
              "      <th>3</th>\n",
              "      <td>2019-04-03 04:00:00</td>\n",
              "      <td>1043.177372</td>\n",
              "    </tr>\n",
              "    <tr>\n",
              "      <th>4</th>\n",
              "      <td>2019-04-03 05:00:00</td>\n",
              "      <td>1052.410431</td>\n",
              "    </tr>\n",
              "    <tr>\n",
              "      <th>...</th>\n",
              "      <td>...</td>\n",
              "      <td>...</td>\n",
              "    </tr>\n",
              "    <tr>\n",
              "      <th>164</th>\n",
              "      <td>2019-04-09 21:00:00</td>\n",
              "      <td>1349.083284</td>\n",
              "    </tr>\n",
              "    <tr>\n",
              "      <th>165</th>\n",
              "      <td>2019-04-09 22:00:00</td>\n",
              "      <td>1296.381553</td>\n",
              "    </tr>\n",
              "    <tr>\n",
              "      <th>166</th>\n",
              "      <td>2019-04-09 23:00:00</td>\n",
              "      <td>1229.753076</td>\n",
              "    </tr>\n",
              "    <tr>\n",
              "      <th>167</th>\n",
              "      <td>2019-04-10 00:00:00</td>\n",
              "      <td>1166.542550</td>\n",
              "    </tr>\n",
              "    <tr>\n",
              "      <th>168</th>\n",
              "      <td>2019-04-10 01:00:00</td>\n",
              "      <td>1122.830002</td>\n",
              "    </tr>\n",
              "  </tbody>\n",
              "</table>\n",
              "<p>169 rows × 2 columns</p>\n",
              "</div>\n",
              "      <button class=\"colab-df-convert\" onclick=\"convertToInteractive('df-eb61e4f0-7424-4dcc-9500-e1904f5164e1')\"\n",
              "              title=\"Convert this dataframe to an interactive table.\"\n",
              "              style=\"display:none;\">\n",
              "        \n",
              "  <svg xmlns=\"http://www.w3.org/2000/svg\" height=\"24px\"viewBox=\"0 0 24 24\"\n",
              "       width=\"24px\">\n",
              "    <path d=\"M0 0h24v24H0V0z\" fill=\"none\"/>\n",
              "    <path d=\"M18.56 5.44l.94 2.06.94-2.06 2.06-.94-2.06-.94-.94-2.06-.94 2.06-2.06.94zm-11 1L8.5 8.5l.94-2.06 2.06-.94-2.06-.94L8.5 2.5l-.94 2.06-2.06.94zm10 10l.94 2.06.94-2.06 2.06-.94-2.06-.94-.94-2.06-.94 2.06-2.06.94z\"/><path d=\"M17.41 7.96l-1.37-1.37c-.4-.4-.92-.59-1.43-.59-.52 0-1.04.2-1.43.59L10.3 9.45l-7.72 7.72c-.78.78-.78 2.05 0 2.83L4 21.41c.39.39.9.59 1.41.59.51 0 1.02-.2 1.41-.59l7.78-7.78 2.81-2.81c.8-.78.8-2.07 0-2.86zM5.41 20L4 18.59l7.72-7.72 1.47 1.35L5.41 20z\"/>\n",
              "  </svg>\n",
              "      </button>\n",
              "      \n",
              "  <style>\n",
              "    .colab-df-container {\n",
              "      display:flex;\n",
              "      flex-wrap:wrap;\n",
              "      gap: 12px;\n",
              "    }\n",
              "\n",
              "    .colab-df-convert {\n",
              "      background-color: #E8F0FE;\n",
              "      border: none;\n",
              "      border-radius: 50%;\n",
              "      cursor: pointer;\n",
              "      display: none;\n",
              "      fill: #1967D2;\n",
              "      height: 32px;\n",
              "      padding: 0 0 0 0;\n",
              "      width: 32px;\n",
              "    }\n",
              "\n",
              "    .colab-df-convert:hover {\n",
              "      background-color: #E2EBFA;\n",
              "      box-shadow: 0px 1px 2px rgba(60, 64, 67, 0.3), 0px 1px 3px 1px rgba(60, 64, 67, 0.15);\n",
              "      fill: #174EA6;\n",
              "    }\n",
              "\n",
              "    [theme=dark] .colab-df-convert {\n",
              "      background-color: #3B4455;\n",
              "      fill: #D2E3FC;\n",
              "    }\n",
              "\n",
              "    [theme=dark] .colab-df-convert:hover {\n",
              "      background-color: #434B5C;\n",
              "      box-shadow: 0px 1px 3px 1px rgba(0, 0, 0, 0.15);\n",
              "      filter: drop-shadow(0px 1px 2px rgba(0, 0, 0, 0.3));\n",
              "      fill: #FFFFFF;\n",
              "    }\n",
              "  </style>\n",
              "\n",
              "      <script>\n",
              "        const buttonEl =\n",
              "          document.querySelector('#df-eb61e4f0-7424-4dcc-9500-e1904f5164e1 button.colab-df-convert');\n",
              "        buttonEl.style.display =\n",
              "          google.colab.kernel.accessAllowed ? 'block' : 'none';\n",
              "\n",
              "        async function convertToInteractive(key) {\n",
              "          const element = document.querySelector('#df-eb61e4f0-7424-4dcc-9500-e1904f5164e1');\n",
              "          const dataTable =\n",
              "            await google.colab.kernel.invokeFunction('convertToInteractive',\n",
              "                                                     [key], {});\n",
              "          if (!dataTable) return;\n",
              "\n",
              "          const docLinkHtml = 'Like what you see? Visit the ' +\n",
              "            '<a target=\"_blank\" href=https://colab.research.google.com/notebooks/data_table.ipynb>data table notebook</a>'\n",
              "            + ' to learn more about interactive tables.';\n",
              "          element.innerHTML = '';\n",
              "          dataTable['output_type'] = 'display_data';\n",
              "          await google.colab.output.renderOutput(dataTable, element);\n",
              "          const docLink = document.createElement('div');\n",
              "          docLink.innerHTML = docLinkHtml;\n",
              "          element.appendChild(docLink);\n",
              "        }\n",
              "      </script>\n",
              "    </div>\n",
              "  </div>\n",
              "  "
            ]
          },
          "metadata": {},
          "execution_count": 49
        }
      ]
    },
    {
      "cell_type": "code",
      "source": [
        "original = df[['datetime', 'DEMAND']]\n",
        "\n",
        "original['datetime']=pd.to_datetime(original['datetime'])\n",
        "original = original.loc[original['datetime'] < '2019-04-03 01:00:00\t']\n",
        "original\n",
        "\n",
        "sns.set(rc={'figure.figsize':(11.7,8.27)})\n",
        "sns.lineplot(original['datetime'], original['DEMAND'])\n",
        "sns.lineplot(df_forecast['Date'], df_forecast['DEMAND'])"
      ],
      "metadata": {
        "colab": {
          "base_uri": "https://localhost:8080/",
          "height": 732
        },
        "id": "2rkq7PUQb6vU",
        "outputId": "4323d329-2699-4556-c233-a9fe76d9b12d"
      },
      "execution_count": null,
      "outputs": [
        {
          "output_type": "stream",
          "name": "stderr",
          "text": [
            "/usr/local/lib/python3.7/dist-packages/ipykernel_launcher.py:3: SettingWithCopyWarning: \n",
            "A value is trying to be set on a copy of a slice from a DataFrame.\n",
            "Try using .loc[row_indexer,col_indexer] = value instead\n",
            "\n",
            "See the caveats in the documentation: https://pandas.pydata.org/pandas-docs/stable/user_guide/indexing.html#returning-a-view-versus-a-copy\n",
            "  This is separate from the ipykernel package so we can avoid doing imports until\n",
            "/usr/local/lib/python3.7/dist-packages/seaborn/_decorators.py:43: FutureWarning: Pass the following variables as keyword args: x, y. From version 0.12, the only valid positional argument will be `data`, and passing other arguments without an explicit keyword will result in an error or misinterpretation.\n",
            "  FutureWarning\n",
            "/usr/local/lib/python3.7/dist-packages/seaborn/_decorators.py:43: FutureWarning: Pass the following variables as keyword args: x, y. From version 0.12, the only valid positional argument will be `data`, and passing other arguments without an explicit keyword will result in an error or misinterpretation.\n",
            "  FutureWarning\n"
          ]
        },
        {
          "output_type": "execute_result",
          "data": {
            "text/plain": [
              "<matplotlib.axes._subplots.AxesSubplot at 0x7fd75095e610>"
            ]
          },
          "metadata": {},
          "execution_count": 53
        },
        {
          "output_type": "display_data",
          "data": {
            "text/plain": [
              "<Figure size 842.4x595.44 with 1 Axes>"
            ],
            "image/png": "[encoded data removed]"
          },
          "metadata": {}
        }
      ]
    },
    {
      "cell_type": "code",
      "source": [
        "Y_test"
      ],
      "metadata": {
        "colab": {
          "base_uri": "https://localhost:8080/"
        },
        "id": "ZQakGiexcCnI",
        "outputId": "661f89b9-d865-482e-e447-807b8cb968ce"
      },
      "execution_count": null,
      "outputs": [
        {
          "output_type": "execute_result",
          "data": {
            "text/plain": [
              "array([-0.35636405, -0.53061283, -0.65216912, -0.76110573, -0.6147095 ,\n",
              "       -0.69527434, -0.07587101,  0.93329526,  1.48648706,  1.83091954,\n",
              "        2.12353754,  2.07208134,  2.31264373,  2.29784829,  2.05803476,\n",
              "        1.39335617,  0.82272346,  0.83554259,  1.11463373,  0.95161575,\n",
              "        0.72624562,  0.40619688,  0.11394186, -0.26140163, -0.47365059,\n",
              "       -0.6717108 , -0.82366254, -0.89247321, -0.78033286, -0.75504715,\n",
              "       -0.1399094 ,  0.84308118,  1.37393375,  1.78244888,  1.95014749,\n",
              "        2.00407524,  2.20104081,  2.27189392,  2.22937403,  1.8057333 ,\n",
              "        1.18907699,  1.14526561,  1.34183331,  1.14561036,  0.96698871,\n",
              "        0.64735243,  0.25249798, -0.08038395, -0.27291469, -0.47413386,\n",
              "       -0.69056455, -0.7642626 , -0.58598049, -0.64655216, -0.14023852,\n",
              "        0.92922861,  1.46310839,  1.9680722 ,  2.16415611,  2.17420635,\n",
              "        2.46298787,  2.52956446,  2.28588686,  1.68742137,  1.09877646,\n",
              "        1.15315675,  1.35227203,  1.18541237,  0.97601044,  0.73980892,\n",
              "        0.46095994,  0.15305751, -0.06576506, -0.22800501, -0.41853081,\n",
              "       -0.4750051 , -0.48418461, -0.72692223, -0.45115357,  0.25114712,\n",
              "        0.74943681,  1.12791583,  1.29204043,  1.19505328,  1.07860153,\n",
              "        1.06266249,  0.92628578,  0.77852879,  0.51521004,  0.73947668,\n",
              "        0.98820934,  0.88378255,  0.72008081,  0.47168716,  0.19701731,\n",
              "       -0.02575265, -0.21665183, -0.38631737, -0.52361324, -0.65047559,\n",
              "       -0.70752533, -1.04613983, -0.91546131, -0.58240961, -0.29984654,\n",
              "       -0.02204897,  0.17858069,  0.30614972,  0.4528105 ,  0.33669724,\n",
              "        0.32065197,  0.27809927,  0.14555434,  0.35852507,  0.70976395,\n",
              "        0.78310891,  0.84936055,  0.49000817,  0.23676673, -0.06451522,\n",
              "       -0.28833504, -0.48597135, -0.61078033, -0.66718796, -0.59916989,\n",
              "       -0.58424322,  0.12543357,  1.11755158,  1.68860871,  2.06158064,\n",
              "        2.19367564,  2.20741184,  2.47330838,  2.48524482,  2.3339784 ,\n",
              "        1.93308049,  1.28108563,  1.12479957,  1.36285917,  1.28598446,\n",
              "        1.13519247,  0.82705674,  0.51469344,  0.13703984, -0.09425503,\n",
              "       -0.3869225 , -0.49979296, -0.53519139, -0.4752285 , -0.50169739,\n",
              "        0.26560405,  1.17871326,  1.77634553,  2.16406915,  2.31335197,\n",
              "        2.30838752,  2.49285891,  2.58243714,  2.43422189,  1.94698489,\n",
              "        1.27338978,  1.10742167,  1.29498744,  1.22379218,  1.11471653,\n",
              "        0.82881796,  0.48254197,  0.0443365 , -0.16158517])"
            ]
          },
          "metadata": {},
          "execution_count": 54
        }
      ]
    },
    {
      "cell_type": "code",
      "source": [
        "repetitions = train_df.shape[1]\n",
        "\n",
        "actual_copies = np.transpose([Y_test] * repetitions)"
      ],
      "metadata": {
        "id": "j0CNjoDgdex_"
      },
      "execution_count": null,
      "outputs": []
    },
    {
      "cell_type": "code",
      "source": [
        "y_actual_future = scaler.inverse_transform(actual_copies)[:,0]"
      ],
      "metadata": {
        "id": "_jauvuwYdtj0"
      },
      "execution_count": null,
      "outputs": []
    },
    {
      "cell_type": "code",
      "source": [
        "y_actual_future"
      ],
      "metadata": {
        "colab": {
          "base_uri": "https://localhost:8080/"
        },
        "id": "BzMp_ysYeA97",
        "outputId": "404be02f-908a-4b04-94c5-9067d430f084"
      },
      "execution_count": null,
      "outputs": [
        {
          "output_type": "execute_result",
          "data": {
            "text/plain": [
              "array([1104.01405611, 1070.57323453, 1047.24485295, 1026.33836791,\n",
              "       1054.43388702, 1038.97234673, 1157.84466215, 1351.51803157,\n",
              "       1457.68341045, 1523.7849057 , 1579.94246331, 1570.06728581,\n",
              "       1616.23463258, 1613.395178  , 1567.37154795, 1439.81026764,\n",
              "       1330.29772839, 1332.75790276, 1386.3194647 , 1355.03399412,\n",
              "       1311.7822578 , 1250.3603508 , 1194.27245283, 1122.23869523,\n",
              "       1081.50509969, 1043.4945262 , 1014.33282493, 1001.12707745,\n",
              "       1022.64840619, 1027.50109413, 1145.55478393, 1334.20466438,\n",
              "       1436.08282764, 1514.48269618, 1546.66644622, 1557.01594885,\n",
              "       1594.81644407, 1608.41416442, 1600.2539931 , 1518.95130669,\n",
              "       1400.60618577, 1392.19815809, 1429.92229756, 1392.26431975,\n",
              "       1357.98428448, 1296.64153161, 1220.86334384, 1156.97856404,\n",
              "       1120.02917561, 1081.41235343, 1039.87622295, 1025.73251899,\n",
              "       1059.94739203, 1048.32282828, 1145.49162053, 1350.73758382,\n",
              "       1453.19671042, 1550.10645279, 1587.73774607, 1589.66652837,\n",
              "       1645.08781263, 1657.86480857, 1611.09960824, 1496.2455643 ,\n",
              "       1383.2762282 , 1393.71258051, 1431.92563666, 1399.90289332,\n",
              "       1359.71568116, 1314.38524941, 1260.87016054, 1201.77930273,\n",
              "       1159.78413825, 1128.64798115, 1092.08336975, 1081.24515032,\n",
              "       1079.48347119, 1032.89866633, 1085.82259777, 1220.60409407,\n",
              "       1316.23297868, 1388.86848758, 1420.36633509, 1401.75312114,\n",
              "       1379.40437188, 1376.34544448, 1350.1728111 , 1321.81614333,\n",
              "       1271.28152732, 1314.32148636, 1362.05682451, 1342.01583793,\n",
              "       1310.5991434 , 1262.92886755, 1210.21581391, 1167.46308842,\n",
              "       1130.82681855, 1098.26558726, 1071.91655609, 1047.56986461,\n",
              "       1036.62120917,  971.6362669 ,  996.71533398, 1060.63269491,\n",
              "       1114.86057073, 1168.17387653, 1206.67756427, 1231.15987717,\n",
              "       1259.30616685, 1237.02237994, 1233.94306435, 1225.77659669,\n",
              "       1200.33933717, 1241.21145244, 1308.61919075, 1322.69513397,\n",
              "       1335.40976604, 1266.44493005, 1217.84429333, 1160.02399926,\n",
              "       1117.06979052, 1079.14056989, 1055.18795005, 1044.36252321,\n",
              "       1057.41615884, 1060.28079883, 1196.47787483, 1386.8794402 ,\n",
              "       1496.47343226, 1568.05205361, 1593.40296316, 1596.03913554,\n",
              "       1647.06846487, 1649.35923741, 1620.32905993, 1543.39104426,\n",
              "       1418.26395338, 1388.27043414, 1433.95745925, 1419.20410858,\n",
              "       1390.26497834, 1331.12934648, 1271.18238477, 1198.70528408,\n",
              "       1154.31650666, 1098.14945455, 1076.48800701, 1069.69454371,\n",
              "       1081.20227517, 1076.12251881, 1223.3785863 , 1398.61723834,\n",
              "       1513.31137494, 1587.72105574, 1616.37055382, 1615.41780592,\n",
              "       1650.82049064, 1668.01182853, 1639.56721173, 1546.05949794,\n",
              "       1416.78700925, 1384.93536676, 1420.93190735, 1407.26852506,\n",
              "       1386.33535549, 1331.46735061, 1265.01206037, 1180.91419373,\n",
              "       1141.39489452])"
            ]
          },
          "metadata": {},
          "execution_count": 57
        }
      ]
    },
    {
      "cell_type": "code",
      "source": [
        "#calculating MAPE\n",
        "APE = []\n",
        "  \n",
        "\n",
        "for i in range(len(y_actual_future)-1):\n",
        "  \n",
        "\n",
        "    per_err = (y_actual_future[i] - y_pred_future[i]) / y_actual_future[i]\n",
        "\n",
        "    per_err = abs(per_err)\n",
        "\n",
        "    APE.append(per_err)\n",
        "  \n",
        "\n",
        "MAPE = sum(APE)/len(APE)"
      ],
      "metadata": {
        "id": "sStuMztieC6f"
      },
      "execution_count": null,
      "outputs": []
    },
    {
      "cell_type": "code",
      "source": [
        "MAPE"
      ],
      "metadata": {
        "colab": {
          "base_uri": "https://localhost:8080/"
        },
        "id": "q91YGB3Ueuog",
        "outputId": "05caf5a4-47f9-40d5-c359-c74918a3e4f4"
      },
      "execution_count": null,
      "outputs": [
        {
          "output_type": "execute_result",
          "data": {
            "text/plain": [
              "0.018657496197746794"
            ]
          },
          "metadata": {},
          "execution_count": 61
        }
      ]
    },
    {
      "cell_type": "code",
      "source": [
        ""
      ],
      "metadata": {
        "id": "XggIiv1Rewsb"
      },
      "execution_count": null,
      "outputs": []
    }
  ],
  "metadata": {
    "colab": {
      "name": "Load_Forecast_latest.ipynb",
      "provenance": [],
      "collapsed_sections": []
    },
    "kernelspec": {
      "display_name": "Python 3",
      "name": "python3"
    },
    "language_info": {
      "name": "python"
    }
  },
  "nbformat": 4,
  "nbformat_minor": 0
}